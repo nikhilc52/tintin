{
  "cells": [
    {
      "cell_type": "code",
      "execution_count": null,
      "metadata": {},
      "outputs": [],
      "source": [
        "from ultralytics import YOLO\n",
        "\n",
        "model = YOLO(\"my_model/my_model.pt\")  # load the pretrained model\n",
        "# predict on all the pages\n",
        "model.predict(source=\"../pages/\", save_crop=True, save=True)"
      ]
    },
    {
      "cell_type": "code",
      "execution_count": null,
      "metadata": {},
      "outputs": [],
      "source": [
        "# renames the files with better IDs\n",
        "import os\n",
        "import shutil\n",
        "from tqdm.auto import tqdm\n",
        "\n",
        "DIRECTORY = 'runs/detect/predict/crops/train/'\n",
        "\n",
        "for file in tqdm(os.scandir(DIRECTORY)):\n",
        "    string = file.name\n",
        "\n",
        "    # character right before the panel number\n",
        "    before = string.rfind(\"_\") + 2\n",
        "    # the .jpg\n",
        "    after = len(string) - string.rfind(\".\")\n",
        "    \n",
        "    # panel number with 2 length padding\n",
        "    panel_number_padded = str.rjust(string[before+1:-after], 2, \"0\")\n",
        "    adjusted_panel_number_padded = \"01\" if panel_number_padded == \"00\" else panel_number_padded\n",
        "\n",
        "    # copy new name to a diff directory\n",
        "    shutil.copy(DIRECTORY + string, 'panels/' + (string[:before+1] + \"_panel_\" + adjusted_panel_number_padded + string[-after:]))"
      ]
    }
  ],
  "metadata": {
    "accelerator": "GPU",
    "colab": {
      "gpuType": "T4",
      "provenance": []
    },
    "kernelspec": {
      "display_name": "info2950FA24",
      "language": "python",
      "name": "python3"
    },
    "language_info": {
      "codemirror_mode": {
        "name": "ipython",
        "version": 3
      },
      "file_extension": ".py",
      "mimetype": "text/x-python",
      "name": "python",
      "nbconvert_exporter": "python",
      "pygments_lexer": "ipython3",
      "version": "3.12.4"
    }
  },
  "nbformat": 4,
  "nbformat_minor": 0
}
