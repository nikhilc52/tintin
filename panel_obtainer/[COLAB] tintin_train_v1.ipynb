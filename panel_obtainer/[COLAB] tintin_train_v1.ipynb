{
  "cells": [
    {
      "cell_type": "code",
      "execution_count": null,
      "metadata": {
        "colab": {
          "base_uri": "https://localhost:8080/"
        },
        "id": "JiaUXy-dz-wT",
        "outputId": "5ff233ad-1ff7-468e-f005-dfd7c036a80e"
      },
      "outputs": [],
      "source": [
        "!unzip -q /content/panel_data_train_v1.zip -d /content/panel_data_train_v1"
      ]
    },
    {
      "cell_type": "code",
      "execution_count": null,
      "metadata": {
        "colab": {
          "base_uri": "https://localhost:8080/"
        },
        "id": "cbI-iqKr3kEP",
        "outputId": "64eefb79-2c5e-4a7a-cb37-038ebf7a257c"
      },
      "outputs": [],
      "source": [
        "!python /content/train_val_split.py --datapath=\"/content/panel_data_train_v1\" --train_pct=0.9"
      ]
    },
    {
      "cell_type": "code",
      "execution_count": null,
      "metadata": {
        "colab": {
          "base_uri": "https://localhost:8080/"
        },
        "id": "0sGzmXqb5ufW",
        "outputId": "fc478812-4fbc-4b8d-de5d-603df46c9811"
      },
      "outputs": [],
      "source": [
        "from ultralytics import YOLO\n",
        "\n",
        "# Load a model\n",
        "model = YOLO(\"yolo11s.pt\")  # load a pretrained model (recommended for training)\n",
        "\n",
        "# Train the model with MPS\n",
        "results = model.train(data=\"/content/data.yaml\", epochs=60, imgsz=640, seed=42)"
      ]
    },
    {
      "cell_type": "code",
      "execution_count": null,
      "metadata": {
        "colab": {
          "base_uri": "https://localhost:8080/"
        },
        "id": "Lsqw7pm74Pnt",
        "outputId": "bc3ef583-4a36-4f35-aafb-c547ba4e5336"
      },
      "outputs": [],
      "source": [
        " from ultralytics import YOLO\n",
        "\n",
        " trained_model = YOLO(\"/content/runs/detect/train2/weights/best.pt\")\n",
        " trained_model.predict(source=\"data/validation/images\", save_crop=True, save=True)"
      ]
    },
    {
      "cell_type": "code",
      "execution_count": null,
      "metadata": {
        "colab": {
          "base_uri": "https://localhost:8080/"
        },
        "id": "_qbc9toQ7iC5",
        "outputId": "e7fa6ac9-d42d-4aaf-91e8-aa759aeca7e1"
      },
      "outputs": [],
      "source": [
        "# Create \"my_model\" folder to store model weights and train results\n",
        "!mkdir /content/my_model\n",
        "!cp /content/runs/detect/train2/weights/best.pt /content/my_model/my_model.pt\n",
        "!cp -r /content/runs/detect/train2 /content/my_model\n",
        "\n",
        "# Zip into \"my_model.zip\"\n",
        "%cd my_model\n",
        "!zip /content/my_model.zip my_model.pt\n",
        "!zip -r /content/my_model.zip train2\n",
        "%cd /content"
      ]
    }
  ],
  "metadata": {
    "accelerator": "GPU",
    "colab": {
      "gpuType": "T4",
      "provenance": []
    },
    "kernelspec": {
      "display_name": "Python 3",
      "name": "python3"
    },
    "language_info": {
      "name": "python"
    }
  },
  "nbformat": 4,
  "nbformat_minor": 0
}
