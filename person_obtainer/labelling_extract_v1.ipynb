{
 "cells": [
  {
   "cell_type": "code",
   "execution_count": null,
   "id": "b7347169",
   "metadata": {},
   "outputs": [],
   "source": [
    "import os\n",
    "from tqdm.auto import tqdm\n",
    "import pandas as pd\n",
    "\n",
    "class_l = []\n",
    "conf_l = []\n",
    "book_id_l = []\n",
    "book_l = []\n",
    "page_id_l = []\n",
    "panel_id_l = []\n",
    "\n",
    "DIRECTORY = 'runs/detect/predict/labels/'\n",
    "for file in tqdm(os.scandir(DIRECTORY)):\n",
    "    f = open(DIRECTORY + file.name, 'r')\n",
    "    file_contents = [line.rstrip() for line in f.readlines()]\n",
    "    for line in file_contents:\n",
    "        line_list = line.split(' ')\n",
    "        class_l.append(line_list[0])\n",
    "        conf_l.append(line_list[5])\n",
    "        book_id_l.append(file.name[:2])\n",
    "        book_l.append(file.name[3:len(file.name)-21])\n",
    "        page_id_l.append(file.name[len(file.name)-15:len(file.name)-13])\n",
    "        panel_id_l.append(file.name[len(file.name)-6:len(file.name)-4])\n",
    "        \n",
    "dataframe = pd.DataFrame({'class':class_l, 'confidence': conf_l, 'book_id': book_id_l,\n",
    "                          'book': book_l, 'page_id' : page_id_l, 'panel_id' : panel_id_l})"
   ]
  },
  {
   "cell_type": "code",
   "execution_count": null,
   "id": "0eccf10d",
   "metadata": {},
   "outputs": [],
   "source": [
    "class_person_map = pd.DataFrame({'class':[0,1,2,3,4], 'person':['calculus','haddock','snowy','thompson','tintin']})\n",
    "dataframe['class'] = dataframe['class'].astype('int64')\n",
    "dataframe = pd.merge(dataframe, class_person_map, how='left', on='class')"
   ]
  },
  {
   "cell_type": "code",
   "execution_count": null,
   "id": "234271b8",
   "metadata": {},
   "outputs": [],
   "source": [
    "dataframe.to_csv('labels.csv', index=False)"
   ]
  },
  {
   "cell_type": "code",
   "execution_count": null,
   "id": "452ff1b6",
   "metadata": {},
   "outputs": [],
   "source": [
    "import os\n",
    "from tqdm.auto import tqdm\n",
    "import pandas as pd\n",
    "\n",
    "book_id_l = []\n",
    "book_l = []\n",
    "page_id_l = []\n",
    "panel_id_l = []\n",
    "\n",
    "DIRECTORY = '../panel_obtainer/panels/'\n",
    "for file in tqdm(os.scandir(DIRECTORY)):\n",
    "    book_id_l.append(file.name[:2])\n",
    "    book_l.append(file.name[3:len(file.name)-21])\n",
    "    page_id_l.append(file.name[len(file.name)-15:len(file.name)-13])\n",
    "    panel_id_l.append(file.name[len(file.name)-6:len(file.name)-4])\n",
    "        \n",
    "dataframe = pd.DataFrame({'book_id': book_id_l, 'book': book_l, 'page_id' : page_id_l, 'panel_id' : panel_id_l})"
   ]
  },
  {
   "cell_type": "code",
   "execution_count": null,
   "id": "6a23d595",
   "metadata": {},
   "outputs": [],
   "source": [
    "dataframe.to_csv('panel_counts.csv', index=False)"
   ]
  }
 ],
 "metadata": {
  "kernelspec": {
   "display_name": "data",
   "language": "python",
   "name": "python3"
  },
  "language_info": {
   "codemirror_mode": {
    "name": "ipython",
    "version": 3
   },
   "file_extension": ".py",
   "mimetype": "text/x-python",
   "name": "python",
   "nbconvert_exporter": "python",
   "pygments_lexer": "ipython3",
   "version": "3.12.11"
  }
 },
 "nbformat": 4,
 "nbformat_minor": 5
}
