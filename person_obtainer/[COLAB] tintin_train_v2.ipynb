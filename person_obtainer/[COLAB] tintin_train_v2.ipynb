{
  "cells": [
    {
      "cell_type": "code",
      "execution_count": null,
      "metadata": {
        "id": "JiaUXy-dz-wT"
      },
      "outputs": [],
      "source": [
        "!unzip -q /content/person_data_train_v2.zip -d /content/person_data_train_v2"
      ]
    },
    {
      "cell_type": "code",
      "execution_count": null,
      "metadata": {
        "colab": {
          "base_uri": "https://localhost:8080/"
        },
        "id": "cbI-iqKr3kEP",
        "outputId": "d7c1ad78-56d3-4696-e7b4-80c48da8f7c8"
      },
      "outputs": [],
      "source": [
        "import random\n",
        "random.seed(42)\n",
        "!python /content/train_val_split.py --datapath=\"/content/person_data_train_v2\" --train_pct=0.9"
      ]
    },
    {
      "cell_type": "code",
      "execution_count": null,
      "metadata": {
        "colab": {
          "base_uri": "https://localhost:8080/"
        },
        "id": "0sGzmXqb5ufW",
        "outputId": "f4d0684c-ffa5-4071-9fec-d2b6f83e45b1"
      },
      "outputs": [],
      "source": [
        "from ultralytics import YOLO\n",
        "\n",
        "# Load a model\n",
        "model = YOLO(\"yolo11s.pt\")  # load a pretrained model (recommended for training)\n",
        "\n",
        "# Train the model with MPS\n",
        "results = model.train(data=\"/content/data.yaml\", epochs=60, imgsz=640, seed=42)"
      ]
    },
    {
      "cell_type": "code",
      "execution_count": null,
      "metadata": {
        "colab": {
          "base_uri": "https://localhost:8080/"
        },
        "id": "Lsqw7pm74Pnt",
        "outputId": "03cec01e-a38b-4223-f959-33ad28d6e957"
      },
      "outputs": [],
      "source": [
        " from ultralytics import YOLO\n",
        "\n",
        " trained_model = YOLO(\"/content/runs/detect/train/weights/best.pt\")\n",
        " trained_model.predict(source=\"data/validation/images\", save=True)"
      ]
    },
    {
      "cell_type": "code",
      "execution_count": null,
      "metadata": {
        "colab": {
          "base_uri": "https://localhost:8080/"
        },
        "id": "_qbc9toQ7iC5",
        "outputId": "4f046f1c-86d9-43f0-a2ea-cacc798f350b"
      },
      "outputs": [],
      "source": [
        "# Create \"my_model\" folder to store model weights and train results\n",
        "!mkdir /content/my_model\n",
        "!cp /content/runs/detect/train/weights/best.pt /content/my_model/my_model.pt\n",
        "!cp -r /content/runs/detect/train /content/my_model\n",
        "\n",
        "# Zip into \"my_model.zip\"\n",
        "%cd my_model\n",
        "!zip /content/my_model.zip my_model.pt\n",
        "!zip -r /content/my_model.zip train\n",
        "%cd /content"
      ]
    }
  ],
  "metadata": {
    "accelerator": "GPU",
    "colab": {
      "gpuType": "T4",
      "provenance": []
    },
    "kernelspec": {
      "display_name": "Python 3",
      "name": "python3"
    },
    "language_info": {
      "name": "python"
    }
  },
  "nbformat": 4,
  "nbformat_minor": 0
}
