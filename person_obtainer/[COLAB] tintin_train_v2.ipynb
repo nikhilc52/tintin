{
  "nbformat": 4,
  "nbformat_minor": 0,
  "metadata": {
    "colab": {
      "provenance": [],
      "gpuType": "T4"
    },
    "kernelspec": {
      "name": "python3",
      "display_name": "Python 3"
    },
    "language_info": {
      "name": "python"
    },
    "accelerator": "GPU"
  },
  "cells": [
    {
      "cell_type": "code",
      "source": [
        "!unzip -q /content/person_data_train_v2.zip -d /content/person_data_train_v2"
      ],
      "metadata": {
        "id": "JiaUXy-dz-wT"
      },
      "execution_count": null,
      "outputs": []
    },
    {
      "cell_type": "code",
      "execution_count": null,
      "metadata": {
        "colab": {
          "base_uri": "https://localhost:8080/"
        },
        "id": "cbI-iqKr3kEP",
        "outputId": "d7c1ad78-56d3-4696-e7b4-80c48da8f7c8"
      },
      "outputs": [
        {
          "output_type": "stream",
          "name": "stdout",
          "text": [
            "Created folder at /content/data/train/images.\n",
            "Created folder at /content/data/train/labels.\n",
            "Created folder at /content/data/validation/images.\n",
            "Created folder at /content/data/validation/labels.\n",
            "Number of image files: 399\n",
            "Number of annotation files: 399\n",
            "Images moving to train: 359\n",
            "Images moving to validation: 40\n"
          ]
        }
      ],
      "source": [
        "import random\n",
        "random.seed(42)\n",
        "!python /content/train_val_split.py --datapath=\"/content/person_data_train_v2\" --train_pct=0.9"
      ]
    },
    {
      "cell_type": "code",
      "source": [
        "from ultralytics import YOLO\n",
        "\n",
        "# Load a model\n",
        "model = YOLO(\"yolo11s.pt\")  # load a pretrained model (recommended for training)\n",
        "\n",
        "# Train the model with MPS\n",
        "results = model.train(data=\"/content/data.yaml\", epochs=60, imgsz=640, seed=42)"
      ],
      "metadata": {
        "id": "0sGzmXqb5ufW",
        "colab": {
          "base_uri": "https://localhost:8080/"
        },
        "outputId": "f4d0684c-ffa5-4071-9fec-d2b6f83e45b1"
      },
      "execution_count": null,
      "outputs": [
        {
          "output_type": "stream",
          "name": "stdout",
          "text": [
            "Creating new Ultralytics Settings v0.0.6 file ✅ \n",
            "View Ultralytics Settings with 'yolo settings' or at '/root/.config/Ultralytics/settings.json'\n",
            "Update Settings with 'yolo settings key=value', i.e. 'yolo settings runs_dir=path/to/dir'. For help see https://docs.ultralytics.com/quickstart/#ultralytics-settings.\n"
          ]
        },
        {
          "output_type": "stream",
          "name": "stderr",
          "text": [
            "Downloading https://github.com/ultralytics/assets/releases/download/v8.3.0/yolo11s.pt to 'yolo11s.pt': 100%|██████████| 18.4M/18.4M [00:00<00:00, 56.2MB/s]\n"
          ]
        },
        {
          "output_type": "stream",
          "name": "stdout",
          "text": [
            "Ultralytics 8.3.179 🚀 Python-3.11.13 torch-2.6.0+cu124 CUDA:0 (Tesla T4, 15095MiB)\n",
            "\u001b[34m\u001b[1mengine/trainer: \u001b[0magnostic_nms=False, amp=True, augment=False, auto_augment=randaugment, batch=16, bgr=0.0, box=7.5, cache=False, cfg=None, classes=None, close_mosaic=10, cls=0.5, conf=None, copy_paste=0.0, copy_paste_mode=flip, cos_lr=False, cutmix=0.0, data=/content/data.yaml, degrees=0.0, deterministic=True, device=None, dfl=1.5, dnn=False, dropout=0.0, dynamic=False, embed=None, epochs=60, erasing=0.4, exist_ok=False, fliplr=0.5, flipud=0.0, format=torchscript, fraction=1.0, freeze=None, half=False, hsv_h=0.015, hsv_s=0.7, hsv_v=0.4, imgsz=640, int8=False, iou=0.7, keras=False, kobj=1.0, line_width=None, lr0=0.01, lrf=0.01, mask_ratio=4, max_det=300, mixup=0.0, mode=train, model=yolo11s.pt, momentum=0.937, mosaic=1.0, multi_scale=False, name=train, nbs=64, nms=False, opset=None, optimize=False, optimizer=auto, overlap_mask=True, patience=100, perspective=0.0, plots=True, pose=12.0, pretrained=True, profile=False, project=None, rect=False, resume=False, retina_masks=False, save=True, save_conf=False, save_crop=False, save_dir=runs/detect/train, save_frames=False, save_json=False, save_period=-1, save_txt=False, scale=0.5, seed=42, shear=0.0, show=False, show_boxes=True, show_conf=True, show_labels=True, simplify=True, single_cls=False, source=None, split=val, stream_buffer=False, task=detect, time=None, tracker=botsort.yaml, translate=0.1, val=True, verbose=True, vid_stride=1, visualize=False, warmup_bias_lr=0.1, warmup_epochs=3.0, warmup_momentum=0.8, weight_decay=0.0005, workers=8, workspace=None\n"
          ]
        },
        {
          "output_type": "stream",
          "name": "stderr",
          "text": [
            "Downloading https://ultralytics.com/assets/Arial.ttf to '/root/.config/Ultralytics/Arial.ttf': 100%|██████████| 755k/755k [00:00<00:00, 60.1MB/s]"
          ]
        },
        {
          "output_type": "stream",
          "name": "stdout",
          "text": [
            "Overriding model.yaml nc=80 with nc=5\n",
            "\n",
            "                   from  n    params  module                                       arguments                     \n",
            "  0                  -1  1       928  ultralytics.nn.modules.conv.Conv             [3, 32, 3, 2]                 \n",
            "  1                  -1  1     18560  ultralytics.nn.modules.conv.Conv             [32, 64, 3, 2]                \n",
            "  2                  -1  1     26080  ultralytics.nn.modules.block.C3k2            [64, 128, 1, False, 0.25]     \n",
            "  3                  -1  1    147712  ultralytics.nn.modules.conv.Conv             [128, 128, 3, 2]              \n",
            "  4                  -1  1    103360  ultralytics.nn.modules.block.C3k2            [128, 256, 1, False, 0.25]    \n",
            "  5                  -1  1    590336  ultralytics.nn.modules.conv.Conv             [256, 256, 3, 2]              \n",
            "  6                  -1  1    346112  ultralytics.nn.modules.block.C3k2            [256, 256, 1, True]           \n",
            "  7                  -1  1   1180672  ultralytics.nn.modules.conv.Conv             [256, 512, 3, 2]              \n",
            "  8                  -1  1   1380352  ultralytics.nn.modules.block.C3k2            [512, 512, 1, True]           \n",
            "  9                  -1  1    656896  ultralytics.nn.modules.block.SPPF            [512, 512, 5]                 \n",
            " 10                  -1  1    990976  ultralytics.nn.modules.block.C2PSA           [512, 512, 1]                 \n",
            " 11                  -1  1         0  torch.nn.modules.upsampling.Upsample         [None, 2, 'nearest']          \n",
            " 12             [-1, 6]  1         0  ultralytics.nn.modules.conv.Concat           [1]                           \n",
            " 13                  -1  1    443776  ultralytics.nn.modules.block.C3k2            [768, 256, 1, False]          \n",
            " 14                  -1  1         0  torch.nn.modules.upsampling.Upsample         [None, 2, 'nearest']          \n",
            " 15             [-1, 4]  1         0  ultralytics.nn.modules.conv.Concat           [1]                           \n",
            " 16                  -1  1    127680  ultralytics.nn.modules.block.C3k2            [512, 128, 1, False]          \n",
            " 17                  -1  1    147712  ultralytics.nn.modules.conv.Conv             [128, 128, 3, 2]              \n",
            " 18            [-1, 13]  1         0  ultralytics.nn.modules.conv.Concat           [1]                           \n",
            " 19                  -1  1    345472  ultralytics.nn.modules.block.C3k2            [384, 256, 1, False]          \n",
            " 20                  -1  1    590336  ultralytics.nn.modules.conv.Conv             [256, 256, 3, 2]              \n",
            " 21            [-1, 10]  1         0  ultralytics.nn.modules.conv.Concat           [1]                           \n"
          ]
        },
        {
          "output_type": "stream",
          "name": "stderr",
          "text": [
            "\n"
          ]
        },
        {
          "output_type": "stream",
          "name": "stdout",
          "text": [
            " 22                  -1  1   1511424  ultralytics.nn.modules.block.C3k2            [768, 512, 1, True]           \n",
            " 23        [16, 19, 22]  1    821343  ultralytics.nn.modules.head.Detect           [5, [128, 256, 512]]          \n",
            "YOLO11s summary: 181 layers, 9,429,727 parameters, 9,429,711 gradients, 21.6 GFLOPs\n",
            "\n",
            "Transferred 493/499 items from pretrained weights\n",
            "Freezing layer 'model.23.dfl.conv.weight'\n",
            "\u001b[34m\u001b[1mAMP: \u001b[0mrunning Automatic Mixed Precision (AMP) checks...\n"
          ]
        },
        {
          "output_type": "stream",
          "name": "stderr",
          "text": [
            "Downloading https://github.com/ultralytics/assets/releases/download/v8.3.0/yolo11n.pt to 'yolo11n.pt': 100%|██████████| 5.35M/5.35M [00:00<00:00, 142MB/s]\n"
          ]
        },
        {
          "output_type": "stream",
          "name": "stdout",
          "text": [
            "\u001b[34m\u001b[1mAMP: \u001b[0mchecks passed ✅\n",
            "\u001b[34m\u001b[1mtrain: \u001b[0mFast image access ✅ (ping: 0.0±0.0 ms, read: 80.5±145.2 MB/s, size: 40.0 KB)\n"
          ]
        },
        {
          "output_type": "stream",
          "name": "stderr",
          "text": [
            "\u001b[34m\u001b[1mtrain: \u001b[0mScanning /content/data/train/labels... 359 images, 92 backgrounds, 0 corrupt: 100%|██████████| 359/359 [00:00<00:00, 551.99it/s]"
          ]
        },
        {
          "output_type": "stream",
          "name": "stdout",
          "text": [
            "\u001b[34m\u001b[1mtrain: \u001b[0mNew cache created: /content/data/train/labels.cache\n"
          ]
        },
        {
          "output_type": "stream",
          "name": "stderr",
          "text": [
            "\n"
          ]
        },
        {
          "output_type": "stream",
          "name": "stdout",
          "text": [
            "\u001b[34m\u001b[1malbumentations: \u001b[0mBlur(p=0.01, blur_limit=(3, 7)), MedianBlur(p=0.01, blur_limit=(3, 7)), ToGray(p=0.01, method='weighted_average', num_output_channels=3), CLAHE(p=0.01, clip_limit=(1.0, 4.0), tile_grid_size=(8, 8))\n",
            "\u001b[34m\u001b[1mval: \u001b[0mFast image access ✅ (ping: 0.0±0.0 ms, read: 7.1±2.3 MB/s, size: 25.7 KB)\n"
          ]
        },
        {
          "output_type": "stream",
          "name": "stderr",
          "text": [
            "\u001b[34m\u001b[1mval: \u001b[0mScanning /content/data/validation/labels... 40 images, 12 backgrounds, 0 corrupt: 100%|██████████| 40/40 [00:00<00:00, 369.84it/s]"
          ]
        },
        {
          "output_type": "stream",
          "name": "stdout",
          "text": [
            "\u001b[34m\u001b[1mval: \u001b[0mNew cache created: /content/data/validation/labels.cache\n"
          ]
        },
        {
          "output_type": "stream",
          "name": "stderr",
          "text": [
            "\n"
          ]
        },
        {
          "output_type": "stream",
          "name": "stdout",
          "text": [
            "Plotting labels to runs/detect/train/labels.jpg... \n",
            "\u001b[34m\u001b[1moptimizer:\u001b[0m 'optimizer=auto' found, ignoring 'lr0=0.01' and 'momentum=0.937' and determining best 'optimizer', 'lr0' and 'momentum' automatically... \n",
            "\u001b[34m\u001b[1moptimizer:\u001b[0m AdamW(lr=0.001111, momentum=0.9) with parameter groups 81 weight(decay=0.0), 88 weight(decay=0.0005), 87 bias(decay=0.0)\n",
            "Image sizes 640 train, 640 val\n",
            "Using 2 dataloader workers\n",
            "Logging results to \u001b[1mruns/detect/train\u001b[0m\n",
            "Starting training for 60 epochs...\n",
            "\n",
            "      Epoch    GPU_mem   box_loss   cls_loss   dfl_loss  Instances       Size\n"
          ]
        },
        {
          "output_type": "stream",
          "name": "stderr",
          "text": [
            "       1/60         4G      1.357      3.845      1.405         26        640: 100%|██████████| 23/23 [00:09<00:00,  2.38it/s]\n",
            "                 Class     Images  Instances      Box(P          R      mAP50  mAP50-95): 100%|██████████| 2/2 [00:01<00:00,  1.28it/s]"
          ]
        },
        {
          "output_type": "stream",
          "name": "stdout",
          "text": [
            "                   all         40         51      0.693      0.354      0.419       0.26\n"
          ]
        },
        {
          "output_type": "stream",
          "name": "stderr",
          "text": [
            "\n"
          ]
        },
        {
          "output_type": "stream",
          "name": "stdout",
          "text": [
            "\n",
            "      Epoch    GPU_mem   box_loss   cls_loss   dfl_loss  Instances       Size\n"
          ]
        },
        {
          "output_type": "stream",
          "name": "stderr",
          "text": [
            "       2/60      4.78G      1.288       2.07      1.303         14        640: 100%|██████████| 23/23 [00:07<00:00,  3.28it/s]\n",
            "                 Class     Images  Instances      Box(P          R      mAP50  mAP50-95): 100%|██████████| 2/2 [00:00<00:00,  2.91it/s]\n"
          ]
        },
        {
          "output_type": "stream",
          "name": "stdout",
          "text": [
            "                   all         40         51      0.838      0.296      0.518      0.326\n",
            "\n",
            "      Epoch    GPU_mem   box_loss   cls_loss   dfl_loss  Instances       Size\n"
          ]
        },
        {
          "output_type": "stream",
          "name": "stderr",
          "text": [
            "       3/60      4.84G      1.292      1.544      1.271         20        640: 100%|██████████| 23/23 [00:07<00:00,  3.11it/s]\n",
            "                 Class     Images  Instances      Box(P          R      mAP50  mAP50-95): 100%|██████████| 2/2 [00:00<00:00,  4.49it/s]"
          ]
        },
        {
          "output_type": "stream",
          "name": "stdout",
          "text": [
            "                   all         40         51      0.594      0.578      0.642      0.365\n"
          ]
        },
        {
          "output_type": "stream",
          "name": "stderr",
          "text": [
            "\n"
          ]
        },
        {
          "output_type": "stream",
          "name": "stdout",
          "text": [
            "\n",
            "      Epoch    GPU_mem   box_loss   cls_loss   dfl_loss  Instances       Size\n"
          ]
        },
        {
          "output_type": "stream",
          "name": "stderr",
          "text": [
            "       4/60      4.88G      1.238      1.211      1.285         16        640: 100%|██████████| 23/23 [00:07<00:00,  3.13it/s]\n",
            "                 Class     Images  Instances      Box(P          R      mAP50  mAP50-95): 100%|██████████| 2/2 [00:00<00:00,  4.83it/s]"
          ]
        },
        {
          "output_type": "stream",
          "name": "stdout",
          "text": [
            "                   all         40         51      0.587      0.679        0.6      0.363\n"
          ]
        },
        {
          "output_type": "stream",
          "name": "stderr",
          "text": [
            "\n"
          ]
        },
        {
          "output_type": "stream",
          "name": "stdout",
          "text": [
            "\n",
            "      Epoch    GPU_mem   box_loss   cls_loss   dfl_loss  Instances       Size\n"
          ]
        },
        {
          "output_type": "stream",
          "name": "stderr",
          "text": [
            "       5/60      4.92G      1.308      1.309      1.293         18        640: 100%|██████████| 23/23 [00:06<00:00,  3.54it/s]\n",
            "                 Class     Images  Instances      Box(P          R      mAP50  mAP50-95): 100%|██████████| 2/2 [00:00<00:00,  4.62it/s]"
          ]
        },
        {
          "output_type": "stream",
          "name": "stdout",
          "text": [
            "                   all         40         51      0.616      0.587      0.667      0.393\n"
          ]
        },
        {
          "output_type": "stream",
          "name": "stderr",
          "text": [
            "\n"
          ]
        },
        {
          "output_type": "stream",
          "name": "stdout",
          "text": [
            "\n",
            "      Epoch    GPU_mem   box_loss   cls_loss   dfl_loss  Instances       Size\n"
          ]
        },
        {
          "output_type": "stream",
          "name": "stderr",
          "text": [
            "       6/60      4.96G      1.229      1.247      1.256         14        640: 100%|██████████| 23/23 [00:07<00:00,  3.14it/s]\n",
            "                 Class     Images  Instances      Box(P          R      mAP50  mAP50-95): 100%|██████████| 2/2 [00:00<00:00,  4.94it/s]"
          ]
        },
        {
          "output_type": "stream",
          "name": "stdout",
          "text": [
            "                   all         40         51       0.75       0.59      0.665      0.448\n"
          ]
        },
        {
          "output_type": "stream",
          "name": "stderr",
          "text": [
            "\n"
          ]
        },
        {
          "output_type": "stream",
          "name": "stdout",
          "text": [
            "\n",
            "      Epoch    GPU_mem   box_loss   cls_loss   dfl_loss  Instances       Size\n"
          ]
        },
        {
          "output_type": "stream",
          "name": "stderr",
          "text": [
            "       7/60      4.98G      1.172      1.073      1.241         23        640: 100%|██████████| 23/23 [00:07<00:00,  3.12it/s]\n",
            "                 Class     Images  Instances      Box(P          R      mAP50  mAP50-95): 100%|██████████| 2/2 [00:00<00:00,  4.10it/s]"
          ]
        },
        {
          "output_type": "stream",
          "name": "stdout",
          "text": [
            "                   all         40         51      0.551      0.507      0.463      0.292\n"
          ]
        },
        {
          "output_type": "stream",
          "name": "stderr",
          "text": [
            "\n"
          ]
        },
        {
          "output_type": "stream",
          "name": "stdout",
          "text": [
            "\n",
            "      Epoch    GPU_mem   box_loss   cls_loss   dfl_loss  Instances       Size\n"
          ]
        },
        {
          "output_type": "stream",
          "name": "stderr",
          "text": [
            "       8/60      5.04G      1.198      1.028      1.216         17        640: 100%|██████████| 23/23 [00:06<00:00,  3.52it/s]\n",
            "                 Class     Images  Instances      Box(P          R      mAP50  mAP50-95): 100%|██████████| 2/2 [00:00<00:00,  5.61it/s]"
          ]
        },
        {
          "output_type": "stream",
          "name": "stdout",
          "text": [
            "                   all         40         51       0.53      0.346      0.304      0.185\n"
          ]
        },
        {
          "output_type": "stream",
          "name": "stderr",
          "text": [
            "\n"
          ]
        },
        {
          "output_type": "stream",
          "name": "stdout",
          "text": [
            "\n",
            "      Epoch    GPU_mem   box_loss   cls_loss   dfl_loss  Instances       Size\n"
          ]
        },
        {
          "output_type": "stream",
          "name": "stderr",
          "text": [
            "       9/60      5.08G      1.155      1.013      1.229         22        640: 100%|██████████| 23/23 [00:07<00:00,  3.13it/s]\n",
            "                 Class     Images  Instances      Box(P          R      mAP50  mAP50-95): 100%|██████████| 2/2 [00:00<00:00,  5.11it/s]"
          ]
        },
        {
          "output_type": "stream",
          "name": "stdout",
          "text": [
            "                   all         40         51      0.722      0.542      0.624      0.422\n"
          ]
        },
        {
          "output_type": "stream",
          "name": "stderr",
          "text": [
            "\n"
          ]
        },
        {
          "output_type": "stream",
          "name": "stdout",
          "text": [
            "\n",
            "      Epoch    GPU_mem   box_loss   cls_loss   dfl_loss  Instances       Size\n"
          ]
        },
        {
          "output_type": "stream",
          "name": "stderr",
          "text": [
            "      10/60      5.12G      1.163     0.9404      1.246         17        640: 100%|██████████| 23/23 [00:06<00:00,  3.47it/s]\n",
            "                 Class     Images  Instances      Box(P          R      mAP50  mAP50-95): 100%|██████████| 2/2 [00:00<00:00,  3.79it/s]"
          ]
        },
        {
          "output_type": "stream",
          "name": "stdout",
          "text": [
            "                   all         40         51      0.838      0.502      0.669      0.398\n"
          ]
        },
        {
          "output_type": "stream",
          "name": "stderr",
          "text": [
            "\n"
          ]
        },
        {
          "output_type": "stream",
          "name": "stdout",
          "text": [
            "\n",
            "      Epoch    GPU_mem   box_loss   cls_loss   dfl_loss  Instances       Size\n"
          ]
        },
        {
          "output_type": "stream",
          "name": "stderr",
          "text": [
            "      11/60      5.14G      1.144     0.9683      1.214         15        640: 100%|██████████| 23/23 [00:07<00:00,  3.23it/s]\n",
            "                 Class     Images  Instances      Box(P          R      mAP50  mAP50-95): 100%|██████████| 2/2 [00:00<00:00,  5.22it/s]"
          ]
        },
        {
          "output_type": "stream",
          "name": "stdout",
          "text": [
            "                   all         40         51      0.852      0.682      0.834      0.535\n"
          ]
        },
        {
          "output_type": "stream",
          "name": "stderr",
          "text": [
            "\n"
          ]
        },
        {
          "output_type": "stream",
          "name": "stdout",
          "text": [
            "\n",
            "      Epoch    GPU_mem   box_loss   cls_loss   dfl_loss  Instances       Size\n"
          ]
        },
        {
          "output_type": "stream",
          "name": "stderr",
          "text": [
            "      12/60       5.2G      1.167     0.9968      1.193         16        640: 100%|██████████| 23/23 [00:07<00:00,  3.10it/s]\n",
            "                 Class     Images  Instances      Box(P          R      mAP50  mAP50-95): 100%|██████████| 2/2 [00:00<00:00,  4.72it/s]"
          ]
        },
        {
          "output_type": "stream",
          "name": "stdout",
          "text": [
            "                   all         40         51      0.759      0.664      0.706      0.484\n"
          ]
        },
        {
          "output_type": "stream",
          "name": "stderr",
          "text": [
            "\n"
          ]
        },
        {
          "output_type": "stream",
          "name": "stdout",
          "text": [
            "\n",
            "      Epoch    GPU_mem   box_loss   cls_loss   dfl_loss  Instances       Size\n"
          ]
        },
        {
          "output_type": "stream",
          "name": "stderr",
          "text": [
            "      13/60      5.24G      1.131     0.9249      1.182         12        640: 100%|██████████| 23/23 [00:06<00:00,  3.52it/s]\n",
            "                 Class     Images  Instances      Box(P          R      mAP50  mAP50-95): 100%|██████████| 2/2 [00:00<00:00,  5.15it/s]"
          ]
        },
        {
          "output_type": "stream",
          "name": "stdout",
          "text": [
            "                   all         40         51      0.818      0.666      0.744      0.491\n"
          ]
        },
        {
          "output_type": "stream",
          "name": "stderr",
          "text": [
            "\n"
          ]
        },
        {
          "output_type": "stream",
          "name": "stdout",
          "text": [
            "\n",
            "      Epoch    GPU_mem   box_loss   cls_loss   dfl_loss  Instances       Size\n"
          ]
        },
        {
          "output_type": "stream",
          "name": "stderr",
          "text": [
            "      14/60      5.28G       1.09     0.8656      1.162         19        640: 100%|██████████| 23/23 [00:07<00:00,  3.15it/s]\n",
            "                 Class     Images  Instances      Box(P          R      mAP50  mAP50-95): 100%|██████████| 2/2 [00:00<00:00,  4.65it/s]"
          ]
        },
        {
          "output_type": "stream",
          "name": "stdout",
          "text": [
            "                   all         40         51      0.764      0.754      0.837      0.529\n"
          ]
        },
        {
          "output_type": "stream",
          "name": "stderr",
          "text": [
            "\n"
          ]
        },
        {
          "output_type": "stream",
          "name": "stdout",
          "text": [
            "\n",
            "      Epoch    GPU_mem   box_loss   cls_loss   dfl_loss  Instances       Size\n"
          ]
        },
        {
          "output_type": "stream",
          "name": "stderr",
          "text": [
            "      15/60       5.3G      1.091     0.8623      1.156         20        640: 100%|██████████| 23/23 [00:06<00:00,  3.41it/s]\n",
            "                 Class     Images  Instances      Box(P          R      mAP50  mAP50-95): 100%|██████████| 2/2 [00:00<00:00,  2.68it/s]"
          ]
        },
        {
          "output_type": "stream",
          "name": "stdout",
          "text": [
            "                   all         40         51      0.845       0.67       0.81       0.56\n"
          ]
        },
        {
          "output_type": "stream",
          "name": "stderr",
          "text": [
            "\n"
          ]
        },
        {
          "output_type": "stream",
          "name": "stdout",
          "text": [
            "\n",
            "      Epoch    GPU_mem   box_loss   cls_loss   dfl_loss  Instances       Size\n"
          ]
        },
        {
          "output_type": "stream",
          "name": "stderr",
          "text": [
            "      16/60      5.36G      1.094     0.8302      1.171         16        640: 100%|██████████| 23/23 [00:06<00:00,  3.36it/s]\n",
            "                 Class     Images  Instances      Box(P          R      mAP50  mAP50-95): 100%|██████████| 2/2 [00:00<00:00,  5.18it/s]"
          ]
        },
        {
          "output_type": "stream",
          "name": "stdout",
          "text": [
            "                   all         40         51      0.792      0.755      0.791      0.541\n"
          ]
        },
        {
          "output_type": "stream",
          "name": "stderr",
          "text": [
            "\n"
          ]
        },
        {
          "output_type": "stream",
          "name": "stdout",
          "text": [
            "\n",
            "      Epoch    GPU_mem   box_loss   cls_loss   dfl_loss  Instances       Size\n"
          ]
        },
        {
          "output_type": "stream",
          "name": "stderr",
          "text": [
            "      17/60      5.39G      1.057     0.7939      1.145         19        640: 100%|██████████| 23/23 [00:07<00:00,  3.15it/s]\n",
            "                 Class     Images  Instances      Box(P          R      mAP50  mAP50-95): 100%|██████████| 2/2 [00:00<00:00,  4.84it/s]"
          ]
        },
        {
          "output_type": "stream",
          "name": "stdout",
          "text": [
            "                   all         40         51      0.778      0.725      0.799      0.539\n"
          ]
        },
        {
          "output_type": "stream",
          "name": "stderr",
          "text": [
            "\n"
          ]
        },
        {
          "output_type": "stream",
          "name": "stdout",
          "text": [
            "\n",
            "      Epoch    GPU_mem   box_loss   cls_loss   dfl_loss  Instances       Size\n"
          ]
        },
        {
          "output_type": "stream",
          "name": "stderr",
          "text": [
            "      18/60      5.44G      1.071     0.7957      1.153         10        640: 100%|██████████| 23/23 [00:06<00:00,  3.50it/s]\n",
            "                 Class     Images  Instances      Box(P          R      mAP50  mAP50-95): 100%|██████████| 2/2 [00:00<00:00,  4.63it/s]"
          ]
        },
        {
          "output_type": "stream",
          "name": "stdout",
          "text": [
            "                   all         40         51      0.831      0.647      0.795      0.511\n"
          ]
        },
        {
          "output_type": "stream",
          "name": "stderr",
          "text": [
            "\n"
          ]
        },
        {
          "output_type": "stream",
          "name": "stdout",
          "text": [
            "\n",
            "      Epoch    GPU_mem   box_loss   cls_loss   dfl_loss  Instances       Size\n"
          ]
        },
        {
          "output_type": "stream",
          "name": "stderr",
          "text": [
            "      19/60      5.46G      1.021     0.7348      1.116         13        640: 100%|██████████| 23/23 [00:07<00:00,  3.04it/s]\n",
            "                 Class     Images  Instances      Box(P          R      mAP50  mAP50-95): 100%|██████████| 2/2 [00:00<00:00,  4.89it/s]"
          ]
        },
        {
          "output_type": "stream",
          "name": "stdout",
          "text": [
            "                   all         40         51      0.862      0.708       0.75      0.509\n"
          ]
        },
        {
          "output_type": "stream",
          "name": "stderr",
          "text": [
            "\n"
          ]
        },
        {
          "output_type": "stream",
          "name": "stdout",
          "text": [
            "\n",
            "      Epoch    GPU_mem   box_loss   cls_loss   dfl_loss  Instances       Size\n"
          ]
        },
        {
          "output_type": "stream",
          "name": "stderr",
          "text": [
            "      20/60      5.52G      1.043     0.7658      1.145          7        640: 100%|██████████| 23/23 [00:07<00:00,  3.26it/s]\n",
            "                 Class     Images  Instances      Box(P          R      mAP50  mAP50-95): 100%|██████████| 2/2 [00:00<00:00,  3.62it/s]"
          ]
        },
        {
          "output_type": "stream",
          "name": "stdout",
          "text": [
            "                   all         40         51      0.755      0.682       0.81       0.56\n"
          ]
        },
        {
          "output_type": "stream",
          "name": "stderr",
          "text": [
            "\n"
          ]
        },
        {
          "output_type": "stream",
          "name": "stdout",
          "text": [
            "\n",
            "      Epoch    GPU_mem   box_loss   cls_loss   dfl_loss  Instances       Size\n"
          ]
        },
        {
          "output_type": "stream",
          "name": "stderr",
          "text": [
            "      21/60      5.56G      1.027      0.731      1.132          5        640: 100%|██████████| 23/23 [00:06<00:00,  3.43it/s]\n",
            "                 Class     Images  Instances      Box(P          R      mAP50  mAP50-95): 100%|██████████| 2/2 [00:00<00:00,  5.10it/s]"
          ]
        },
        {
          "output_type": "stream",
          "name": "stdout",
          "text": [
            "                   all         40         51      0.858      0.744      0.854      0.577\n"
          ]
        },
        {
          "output_type": "stream",
          "name": "stderr",
          "text": [
            "\n"
          ]
        },
        {
          "output_type": "stream",
          "name": "stdout",
          "text": [
            "\n",
            "      Epoch    GPU_mem   box_loss   cls_loss   dfl_loss  Instances       Size\n"
          ]
        },
        {
          "output_type": "stream",
          "name": "stderr",
          "text": [
            "      22/60      5.59G      1.022     0.6968       1.12         23        640: 100%|██████████| 23/23 [00:07<00:00,  2.91it/s]\n",
            "                 Class     Images  Instances      Box(P          R      mAP50  mAP50-95): 100%|██████████| 2/2 [00:00<00:00,  4.40it/s]"
          ]
        },
        {
          "output_type": "stream",
          "name": "stdout",
          "text": [
            "                   all         40         51       0.74      0.756      0.835      0.561\n"
          ]
        },
        {
          "output_type": "stream",
          "name": "stderr",
          "text": [
            "\n"
          ]
        },
        {
          "output_type": "stream",
          "name": "stdout",
          "text": [
            "\n",
            "      Epoch    GPU_mem   box_loss   cls_loss   dfl_loss  Instances       Size\n"
          ]
        },
        {
          "output_type": "stream",
          "name": "stderr",
          "text": [
            "      23/60      5.62G     0.9808     0.6983      1.099         13        640: 100%|██████████| 23/23 [00:06<00:00,  3.51it/s]\n",
            "                 Class     Images  Instances      Box(P          R      mAP50  mAP50-95): 100%|██████████| 2/2 [00:00<00:00,  4.25it/s]"
          ]
        },
        {
          "output_type": "stream",
          "name": "stdout",
          "text": [
            "                   all         40         51       0.85      0.813      0.866      0.603\n"
          ]
        },
        {
          "output_type": "stream",
          "name": "stderr",
          "text": [
            "\n"
          ]
        },
        {
          "output_type": "stream",
          "name": "stdout",
          "text": [
            "\n",
            "      Epoch    GPU_mem   box_loss   cls_loss   dfl_loss  Instances       Size\n"
          ]
        },
        {
          "output_type": "stream",
          "name": "stderr",
          "text": [
            "      24/60      5.68G      1.035     0.7776      1.152          8        640: 100%|██████████| 23/23 [00:07<00:00,  3.24it/s]\n",
            "                 Class     Images  Instances      Box(P          R      mAP50  mAP50-95): 100%|██████████| 2/2 [00:00<00:00,  5.29it/s]"
          ]
        },
        {
          "output_type": "stream",
          "name": "stdout",
          "text": [
            "                   all         40         51       0.92      0.724      0.836      0.604\n"
          ]
        },
        {
          "output_type": "stream",
          "name": "stderr",
          "text": [
            "\n"
          ]
        },
        {
          "output_type": "stream",
          "name": "stdout",
          "text": [
            "\n",
            "      Epoch    GPU_mem   box_loss   cls_loss   dfl_loss  Instances       Size\n"
          ]
        },
        {
          "output_type": "stream",
          "name": "stderr",
          "text": [
            "      25/60      5.72G     0.9865     0.6894      1.096         14        640: 100%|██████████| 23/23 [00:07<00:00,  3.18it/s]\n",
            "                 Class     Images  Instances      Box(P          R      mAP50  mAP50-95): 100%|██████████| 2/2 [00:00<00:00,  4.92it/s]"
          ]
        },
        {
          "output_type": "stream",
          "name": "stdout",
          "text": [
            "                   all         40         51      0.855      0.808       0.84      0.593\n"
          ]
        },
        {
          "output_type": "stream",
          "name": "stderr",
          "text": [
            "\n"
          ]
        },
        {
          "output_type": "stream",
          "name": "stdout",
          "text": [
            "\n",
            "      Epoch    GPU_mem   box_loss   cls_loss   dfl_loss  Instances       Size\n"
          ]
        },
        {
          "output_type": "stream",
          "name": "stderr",
          "text": [
            "      26/60      5.75G     0.9741     0.6371      1.096         29        640: 100%|██████████| 23/23 [00:06<00:00,  3.51it/s]\n",
            "                 Class     Images  Instances      Box(P          R      mAP50  mAP50-95): 100%|██████████| 2/2 [00:00<00:00,  5.14it/s]"
          ]
        },
        {
          "output_type": "stream",
          "name": "stdout",
          "text": [
            "                   all         40         51      0.866      0.765      0.847      0.606\n"
          ]
        },
        {
          "output_type": "stream",
          "name": "stderr",
          "text": [
            "\n"
          ]
        },
        {
          "output_type": "stream",
          "name": "stdout",
          "text": [
            "\n",
            "      Epoch    GPU_mem   box_loss   cls_loss   dfl_loss  Instances       Size\n"
          ]
        },
        {
          "output_type": "stream",
          "name": "stderr",
          "text": [
            "      27/60      5.77G     0.9146     0.6137      1.072         22        640: 100%|██████████| 23/23 [00:07<00:00,  3.16it/s]\n",
            "                 Class     Images  Instances      Box(P          R      mAP50  mAP50-95): 100%|██████████| 2/2 [00:00<00:00,  5.07it/s]"
          ]
        },
        {
          "output_type": "stream",
          "name": "stdout",
          "text": [
            "                   all         40         51      0.897      0.805       0.87      0.611\n"
          ]
        },
        {
          "output_type": "stream",
          "name": "stderr",
          "text": [
            "\n"
          ]
        },
        {
          "output_type": "stream",
          "name": "stdout",
          "text": [
            "\n",
            "      Epoch    GPU_mem   box_loss   cls_loss   dfl_loss  Instances       Size\n"
          ]
        },
        {
          "output_type": "stream",
          "name": "stderr",
          "text": [
            "      28/60      5.83G     0.9204     0.6089      1.064         27        640: 100%|██████████| 23/23 [00:06<00:00,  3.41it/s]\n",
            "                 Class     Images  Instances      Box(P          R      mAP50  mAP50-95): 100%|██████████| 2/2 [00:00<00:00,  2.84it/s]"
          ]
        },
        {
          "output_type": "stream",
          "name": "stdout",
          "text": [
            "                   all         40         51      0.886      0.874      0.917      0.631\n"
          ]
        },
        {
          "output_type": "stream",
          "name": "stderr",
          "text": [
            "\n"
          ]
        },
        {
          "output_type": "stream",
          "name": "stdout",
          "text": [
            "\n",
            "      Epoch    GPU_mem   box_loss   cls_loss   dfl_loss  Instances       Size\n"
          ]
        },
        {
          "output_type": "stream",
          "name": "stderr",
          "text": [
            "      29/60      5.88G     0.9224     0.5945       1.06         11        640: 100%|██████████| 23/23 [00:06<00:00,  3.36it/s]\n",
            "                 Class     Images  Instances      Box(P          R      mAP50  mAP50-95): 100%|██████████| 2/2 [00:00<00:00,  5.46it/s]"
          ]
        },
        {
          "output_type": "stream",
          "name": "stdout",
          "text": [
            "                   all         40         51      0.914      0.804      0.915      0.629\n"
          ]
        },
        {
          "output_type": "stream",
          "name": "stderr",
          "text": [
            "\n"
          ]
        },
        {
          "output_type": "stream",
          "name": "stdout",
          "text": [
            "\n",
            "      Epoch    GPU_mem   box_loss   cls_loss   dfl_loss  Instances       Size\n"
          ]
        },
        {
          "output_type": "stream",
          "name": "stderr",
          "text": [
            "      30/60      5.91G     0.8924     0.5825      1.043         22        640: 100%|██████████| 23/23 [00:07<00:00,  3.17it/s]\n",
            "                 Class     Images  Instances      Box(P          R      mAP50  mAP50-95): 100%|██████████| 2/2 [00:00<00:00,  4.85it/s]"
          ]
        },
        {
          "output_type": "stream",
          "name": "stdout",
          "text": [
            "                   all         40         51      0.947      0.736      0.895      0.622\n"
          ]
        },
        {
          "output_type": "stream",
          "name": "stderr",
          "text": [
            "\n"
          ]
        },
        {
          "output_type": "stream",
          "name": "stdout",
          "text": [
            "\n",
            "      Epoch    GPU_mem   box_loss   cls_loss   dfl_loss  Instances       Size\n"
          ]
        },
        {
          "output_type": "stream",
          "name": "stderr",
          "text": [
            "      31/60      5.93G     0.9218     0.5615       1.06         23        640: 100%|██████████| 23/23 [00:06<00:00,  3.42it/s]\n",
            "                 Class     Images  Instances      Box(P          R      mAP50  mAP50-95): 100%|██████████| 2/2 [00:00<00:00,  5.19it/s]"
          ]
        },
        {
          "output_type": "stream",
          "name": "stdout",
          "text": [
            "                   all         40         51      0.881        0.8      0.885      0.613\n"
          ]
        },
        {
          "output_type": "stream",
          "name": "stderr",
          "text": [
            "\n"
          ]
        },
        {
          "output_type": "stream",
          "name": "stdout",
          "text": [
            "\n",
            "      Epoch    GPU_mem   box_loss   cls_loss   dfl_loss  Instances       Size\n"
          ]
        },
        {
          "output_type": "stream",
          "name": "stderr",
          "text": [
            "      32/60      5.99G     0.9182     0.6027      1.069         13        640: 100%|██████████| 23/23 [00:07<00:00,  3.05it/s]\n",
            "                 Class     Images  Instances      Box(P          R      mAP50  mAP50-95): 100%|██████████| 2/2 [00:00<00:00,  4.98it/s]"
          ]
        },
        {
          "output_type": "stream",
          "name": "stdout",
          "text": [
            "                   all         40         51      0.869      0.864      0.892      0.635\n"
          ]
        },
        {
          "output_type": "stream",
          "name": "stderr",
          "text": [
            "\n"
          ]
        },
        {
          "output_type": "stream",
          "name": "stdout",
          "text": [
            "\n",
            "      Epoch    GPU_mem   box_loss   cls_loss   dfl_loss  Instances       Size\n"
          ]
        },
        {
          "output_type": "stream",
          "name": "stderr",
          "text": [
            "      33/60      6.03G     0.8981     0.5696      1.077         21        640: 100%|██████████| 23/23 [00:07<00:00,  3.10it/s]\n",
            "                 Class     Images  Instances      Box(P          R      mAP50  mAP50-95): 100%|██████████| 2/2 [00:00<00:00,  3.66it/s]"
          ]
        },
        {
          "output_type": "stream",
          "name": "stdout",
          "text": [
            "                   all         40         51      0.811       0.81      0.856      0.612\n"
          ]
        },
        {
          "output_type": "stream",
          "name": "stderr",
          "text": [
            "\n"
          ]
        },
        {
          "output_type": "stream",
          "name": "stdout",
          "text": [
            "\n",
            "      Epoch    GPU_mem   box_loss   cls_loss   dfl_loss  Instances       Size\n"
          ]
        },
        {
          "output_type": "stream",
          "name": "stderr",
          "text": [
            "      34/60      6.08G     0.8851     0.5434      1.055         14        640: 100%|██████████| 23/23 [00:06<00:00,  3.46it/s]\n",
            "                 Class     Images  Instances      Box(P          R      mAP50  mAP50-95): 100%|██████████| 2/2 [00:00<00:00,  4.89it/s]"
          ]
        },
        {
          "output_type": "stream",
          "name": "stdout",
          "text": [
            "                   all         40         51      0.869      0.769       0.86       0.59\n"
          ]
        },
        {
          "output_type": "stream",
          "name": "stderr",
          "text": [
            "\n"
          ]
        },
        {
          "output_type": "stream",
          "name": "stdout",
          "text": [
            "\n",
            "      Epoch    GPU_mem   box_loss   cls_loss   dfl_loss  Instances       Size\n"
          ]
        },
        {
          "output_type": "stream",
          "name": "stderr",
          "text": [
            "      35/60      6.09G     0.8625     0.5117      1.031         14        640: 100%|██████████| 23/23 [00:07<00:00,  3.15it/s]\n",
            "                 Class     Images  Instances      Box(P          R      mAP50  mAP50-95): 100%|██████████| 2/2 [00:00<00:00,  5.17it/s]"
          ]
        },
        {
          "output_type": "stream",
          "name": "stdout",
          "text": [
            "                   all         40         51      0.853      0.847      0.874      0.577\n"
          ]
        },
        {
          "output_type": "stream",
          "name": "stderr",
          "text": [
            "\n"
          ]
        },
        {
          "output_type": "stream",
          "name": "stdout",
          "text": [
            "\n",
            "      Epoch    GPU_mem   box_loss   cls_loss   dfl_loss  Instances       Size\n"
          ]
        },
        {
          "output_type": "stream",
          "name": "stderr",
          "text": [
            "      36/60      6.15G     0.8897     0.5653      1.055         11        640: 100%|██████████| 23/23 [00:06<00:00,  3.51it/s]\n",
            "                 Class     Images  Instances      Box(P          R      mAP50  mAP50-95): 100%|██████████| 2/2 [00:00<00:00,  4.21it/s]"
          ]
        },
        {
          "output_type": "stream",
          "name": "stdout",
          "text": [
            "                   all         40         51       0.86      0.868      0.871      0.617\n"
          ]
        },
        {
          "output_type": "stream",
          "name": "stderr",
          "text": [
            "\n"
          ]
        },
        {
          "output_type": "stream",
          "name": "stdout",
          "text": [
            "\n",
            "      Epoch    GPU_mem   box_loss   cls_loss   dfl_loss  Instances       Size\n"
          ]
        },
        {
          "output_type": "stream",
          "name": "stderr",
          "text": [
            "      37/60      6.19G     0.8825      0.549      1.046         19        640: 100%|██████████| 23/23 [00:06<00:00,  3.30it/s]\n",
            "                 Class     Images  Instances      Box(P          R      mAP50  mAP50-95): 100%|██████████| 2/2 [00:00<00:00,  4.91it/s]"
          ]
        },
        {
          "output_type": "stream",
          "name": "stdout",
          "text": [
            "                   all         40         51      0.824      0.824      0.865      0.602\n"
          ]
        },
        {
          "output_type": "stream",
          "name": "stderr",
          "text": [
            "\n"
          ]
        },
        {
          "output_type": "stream",
          "name": "stdout",
          "text": [
            "\n",
            "      Epoch    GPU_mem   box_loss   cls_loss   dfl_loss  Instances       Size\n"
          ]
        },
        {
          "output_type": "stream",
          "name": "stderr",
          "text": [
            "      38/60      6.23G     0.8489     0.5047      1.044         22        640: 100%|██████████| 23/23 [00:07<00:00,  3.19it/s]\n",
            "                 Class     Images  Instances      Box(P          R      mAP50  mAP50-95): 100%|██████████| 2/2 [00:00<00:00,  3.77it/s]"
          ]
        },
        {
          "output_type": "stream",
          "name": "stdout",
          "text": [
            "                   all         40         51       0.87      0.815      0.867      0.604\n"
          ]
        },
        {
          "output_type": "stream",
          "name": "stderr",
          "text": [
            "\n"
          ]
        },
        {
          "output_type": "stream",
          "name": "stdout",
          "text": [
            "\n",
            "      Epoch    GPU_mem   box_loss   cls_loss   dfl_loss  Instances       Size\n"
          ]
        },
        {
          "output_type": "stream",
          "name": "stderr",
          "text": [
            "      39/60      6.25G     0.8572     0.5158      1.025         17        640: 100%|██████████| 23/23 [00:06<00:00,  3.49it/s]\n",
            "                 Class     Images  Instances      Box(P          R      mAP50  mAP50-95): 100%|██████████| 2/2 [00:00<00:00,  4.76it/s]"
          ]
        },
        {
          "output_type": "stream",
          "name": "stdout",
          "text": [
            "                   all         40         51      0.888      0.827      0.876      0.621\n"
          ]
        },
        {
          "output_type": "stream",
          "name": "stderr",
          "text": [
            "\n"
          ]
        },
        {
          "output_type": "stream",
          "name": "stdout",
          "text": [
            "\n",
            "      Epoch    GPU_mem   box_loss   cls_loss   dfl_loss  Instances       Size\n"
          ]
        },
        {
          "output_type": "stream",
          "name": "stderr",
          "text": [
            "      40/60      6.31G     0.8193      0.516      1.028         18        640: 100%|██████████| 23/23 [00:07<00:00,  3.02it/s]\n",
            "                 Class     Images  Instances      Box(P          R      mAP50  mAP50-95): 100%|██████████| 2/2 [00:00<00:00,  5.61it/s]"
          ]
        },
        {
          "output_type": "stream",
          "name": "stdout",
          "text": [
            "                   all         40         51      0.913      0.801      0.878      0.624\n"
          ]
        },
        {
          "output_type": "stream",
          "name": "stderr",
          "text": [
            "\n"
          ]
        },
        {
          "output_type": "stream",
          "name": "stdout",
          "text": [
            "\n",
            "      Epoch    GPU_mem   box_loss   cls_loss   dfl_loss  Instances       Size\n"
          ]
        },
        {
          "output_type": "stream",
          "name": "stderr",
          "text": [
            "      41/60      6.35G     0.8223     0.5018      1.028         11        640: 100%|██████████| 23/23 [00:06<00:00,  3.31it/s]\n",
            "                 Class     Images  Instances      Box(P          R      mAP50  mAP50-95): 100%|██████████| 2/2 [00:00<00:00,  3.08it/s]"
          ]
        },
        {
          "output_type": "stream",
          "name": "stdout",
          "text": [
            "                   all         40         51      0.927      0.795      0.886      0.641\n"
          ]
        },
        {
          "output_type": "stream",
          "name": "stderr",
          "text": [
            "\n"
          ]
        },
        {
          "output_type": "stream",
          "name": "stdout",
          "text": [
            "\n",
            "      Epoch    GPU_mem   box_loss   cls_loss   dfl_loss  Instances       Size\n"
          ]
        },
        {
          "output_type": "stream",
          "name": "stderr",
          "text": [
            "      42/60      6.39G     0.8054     0.4951     0.9956         20        640: 100%|██████████| 23/23 [00:06<00:00,  3.45it/s]\n",
            "                 Class     Images  Instances      Box(P          R      mAP50  mAP50-95): 100%|██████████| 2/2 [00:00<00:00,  4.87it/s]"
          ]
        },
        {
          "output_type": "stream",
          "name": "stdout",
          "text": [
            "                   all         40         51      0.894       0.73       0.84      0.608\n"
          ]
        },
        {
          "output_type": "stream",
          "name": "stderr",
          "text": [
            "\n"
          ]
        },
        {
          "output_type": "stream",
          "name": "stdout",
          "text": [
            "\n",
            "      Epoch    GPU_mem   box_loss   cls_loss   dfl_loss  Instances       Size\n"
          ]
        },
        {
          "output_type": "stream",
          "name": "stderr",
          "text": [
            "      43/60      6.74G     0.7813     0.4968      1.012         10        640: 100%|██████████| 23/23 [00:07<00:00,  3.11it/s]\n",
            "                 Class     Images  Instances      Box(P          R      mAP50  mAP50-95): 100%|██████████| 2/2 [00:00<00:00,  5.15it/s]"
          ]
        },
        {
          "output_type": "stream",
          "name": "stdout",
          "text": [
            "                   all         40         51      0.901      0.749      0.832      0.598\n"
          ]
        },
        {
          "output_type": "stream",
          "name": "stderr",
          "text": [
            "\n"
          ]
        },
        {
          "output_type": "stream",
          "name": "stdout",
          "text": [
            "\n",
            "      Epoch    GPU_mem   box_loss   cls_loss   dfl_loss  Instances       Size\n"
          ]
        },
        {
          "output_type": "stream",
          "name": "stderr",
          "text": [
            "      44/60      6.79G      0.791     0.4746      1.019         12        640: 100%|██████████| 23/23 [00:06<00:00,  3.44it/s]\n",
            "                 Class     Images  Instances      Box(P          R      mAP50  mAP50-95): 100%|██████████| 2/2 [00:00<00:00,  5.22it/s]"
          ]
        },
        {
          "output_type": "stream",
          "name": "stdout",
          "text": [
            "                   all         40         51       0.95      0.762      0.877      0.625\n"
          ]
        },
        {
          "output_type": "stream",
          "name": "stderr",
          "text": [
            "\n"
          ]
        },
        {
          "output_type": "stream",
          "name": "stdout",
          "text": [
            "\n",
            "      Epoch    GPU_mem   box_loss   cls_loss   dfl_loss  Instances       Size\n"
          ]
        },
        {
          "output_type": "stream",
          "name": "stderr",
          "text": [
            "      45/60      6.84G     0.7538     0.4634     0.9963         21        640: 100%|██████████| 23/23 [00:07<00:00,  3.05it/s]\n",
            "                 Class     Images  Instances      Box(P          R      mAP50  mAP50-95): 100%|██████████| 2/2 [00:00<00:00,  4.85it/s]"
          ]
        },
        {
          "output_type": "stream",
          "name": "stdout",
          "text": [
            "                   all         40         51      0.946      0.809      0.901      0.641\n"
          ]
        },
        {
          "output_type": "stream",
          "name": "stderr",
          "text": [
            "\n"
          ]
        },
        {
          "output_type": "stream",
          "name": "stdout",
          "text": [
            "\n",
            "      Epoch    GPU_mem   box_loss   cls_loss   dfl_loss  Instances       Size\n"
          ]
        },
        {
          "output_type": "stream",
          "name": "stderr",
          "text": [
            "      46/60      6.88G     0.7746      0.468      1.006         12        640: 100%|██████████| 23/23 [00:07<00:00,  3.13it/s]\n",
            "                 Class     Images  Instances      Box(P          R      mAP50  mAP50-95): 100%|██████████| 2/2 [00:00<00:00,  4.05it/s]"
          ]
        },
        {
          "output_type": "stream",
          "name": "stdout",
          "text": [
            "                   all         40         51      0.889      0.854      0.906      0.648\n"
          ]
        },
        {
          "output_type": "stream",
          "name": "stderr",
          "text": [
            "\n"
          ]
        },
        {
          "output_type": "stream",
          "name": "stdout",
          "text": [
            "\n",
            "      Epoch    GPU_mem   box_loss   cls_loss   dfl_loss  Instances       Size\n"
          ]
        },
        {
          "output_type": "stream",
          "name": "stderr",
          "text": [
            "      47/60      6.89G     0.7518     0.4418     0.9948         18        640: 100%|██████████| 23/23 [00:06<00:00,  3.41it/s]\n",
            "                 Class     Images  Instances      Box(P          R      mAP50  mAP50-95): 100%|██████████| 2/2 [00:00<00:00,  4.81it/s]"
          ]
        },
        {
          "output_type": "stream",
          "name": "stdout",
          "text": [
            "                   all         40         51      0.892      0.836      0.894      0.649\n"
          ]
        },
        {
          "output_type": "stream",
          "name": "stderr",
          "text": [
            "\n"
          ]
        },
        {
          "output_type": "stream",
          "name": "stdout",
          "text": [
            "\n",
            "      Epoch    GPU_mem   box_loss   cls_loss   dfl_loss  Instances       Size\n"
          ]
        },
        {
          "output_type": "stream",
          "name": "stderr",
          "text": [
            "      48/60      6.96G     0.7153      0.437     0.9631          7        640: 100%|██████████| 23/23 [00:07<00:00,  3.10it/s]\n",
            "                 Class     Images  Instances      Box(P          R      mAP50  mAP50-95): 100%|██████████| 2/2 [00:00<00:00,  4.66it/s]"
          ]
        },
        {
          "output_type": "stream",
          "name": "stdout",
          "text": [
            "                   all         40         51      0.905      0.805      0.871      0.629\n"
          ]
        },
        {
          "output_type": "stream",
          "name": "stderr",
          "text": [
            "\n"
          ]
        },
        {
          "output_type": "stream",
          "name": "stdout",
          "text": [
            "\n",
            "      Epoch    GPU_mem   box_loss   cls_loss   dfl_loss  Instances       Size\n"
          ]
        },
        {
          "output_type": "stream",
          "name": "stderr",
          "text": [
            "      49/60         7G      0.739     0.4523     0.9811         15        640: 100%|██████████| 23/23 [00:06<00:00,  3.35it/s]\n",
            "                 Class     Images  Instances      Box(P          R      mAP50  mAP50-95): 100%|██████████| 2/2 [00:00<00:00,  3.55it/s]"
          ]
        },
        {
          "output_type": "stream",
          "name": "stdout",
          "text": [
            "                   all         40         51      0.908      0.798      0.876      0.632\n"
          ]
        },
        {
          "output_type": "stream",
          "name": "stderr",
          "text": [
            "\n"
          ]
        },
        {
          "output_type": "stream",
          "name": "stdout",
          "text": [
            "\n",
            "      Epoch    GPU_mem   box_loss   cls_loss   dfl_loss  Instances       Size\n"
          ]
        },
        {
          "output_type": "stream",
          "name": "stderr",
          "text": [
            "      50/60      7.04G      0.686     0.4155     0.9541         12        640: 100%|██████████| 23/23 [00:06<00:00,  3.31it/s]\n",
            "                 Class     Images  Instances      Box(P          R      mAP50  mAP50-95): 100%|██████████| 2/2 [00:00<00:00,  5.16it/s]"
          ]
        },
        {
          "output_type": "stream",
          "name": "stdout",
          "text": [
            "                   all         40         51      0.852       0.82      0.894      0.653\n"
          ]
        },
        {
          "output_type": "stream",
          "name": "stderr",
          "text": [
            "\n"
          ]
        },
        {
          "output_type": "stream",
          "name": "stdout",
          "text": [
            "Closing dataloader mosaic\n",
            "\u001b[34m\u001b[1malbumentations: \u001b[0mBlur(p=0.01, blur_limit=(3, 7)), MedianBlur(p=0.01, blur_limit=(3, 7)), ToGray(p=0.01, method='weighted_average', num_output_channels=3), CLAHE(p=0.01, clip_limit=(1.0, 4.0), tile_grid_size=(8, 8))\n",
            "\n",
            "      Epoch    GPU_mem   box_loss   cls_loss   dfl_loss  Instances       Size\n"
          ]
        },
        {
          "output_type": "stream",
          "name": "stderr",
          "text": [
            "      51/60      7.05G     0.6587     0.3658     0.9594          6        640: 100%|██████████| 23/23 [00:08<00:00,  2.64it/s]\n",
            "                 Class     Images  Instances      Box(P          R      mAP50  mAP50-95): 100%|██████████| 2/2 [00:00<00:00,  5.06it/s]"
          ]
        },
        {
          "output_type": "stream",
          "name": "stdout",
          "text": [
            "                   all         40         51      0.912      0.778      0.887      0.638\n"
          ]
        },
        {
          "output_type": "stream",
          "name": "stderr",
          "text": [
            "\n"
          ]
        },
        {
          "output_type": "stream",
          "name": "stdout",
          "text": [
            "\n",
            "      Epoch    GPU_mem   box_loss   cls_loss   dfl_loss  Instances       Size\n"
          ]
        },
        {
          "output_type": "stream",
          "name": "stderr",
          "text": [
            "      52/60      7.12G     0.6397     0.3596     0.9612          8        640: 100%|██████████| 23/23 [00:06<00:00,  3.46it/s]\n",
            "                 Class     Images  Instances      Box(P          R      mAP50  mAP50-95): 100%|██████████| 2/2 [00:00<00:00,  4.28it/s]"
          ]
        },
        {
          "output_type": "stream",
          "name": "stdout",
          "text": [
            "                   all         40         51      0.816      0.861      0.899      0.624\n"
          ]
        },
        {
          "output_type": "stream",
          "name": "stderr",
          "text": [
            "\n"
          ]
        },
        {
          "output_type": "stream",
          "name": "stdout",
          "text": [
            "\n",
            "      Epoch    GPU_mem   box_loss   cls_loss   dfl_loss  Instances       Size\n"
          ]
        },
        {
          "output_type": "stream",
          "name": "stderr",
          "text": [
            "      53/60      7.15G     0.6213     0.3538     0.9469          7        640: 100%|██████████| 23/23 [00:06<00:00,  3.34it/s]\n",
            "                 Class     Images  Instances      Box(P          R      mAP50  mAP50-95): 100%|██████████| 2/2 [00:00<00:00,  4.89it/s]"
          ]
        },
        {
          "output_type": "stream",
          "name": "stdout",
          "text": [
            "                   all         40         51       0.91      0.788       0.89      0.632\n"
          ]
        },
        {
          "output_type": "stream",
          "name": "stderr",
          "text": [
            "\n"
          ]
        },
        {
          "output_type": "stream",
          "name": "stdout",
          "text": [
            "\n",
            "      Epoch    GPU_mem   box_loss   cls_loss   dfl_loss  Instances       Size\n"
          ]
        },
        {
          "output_type": "stream",
          "name": "stderr",
          "text": [
            "      54/60       7.2G     0.6403     0.3457     0.9617         11        640: 100%|██████████| 23/23 [00:07<00:00,  3.18it/s]\n",
            "                 Class     Images  Instances      Box(P          R      mAP50  mAP50-95): 100%|██████████| 2/2 [00:00<00:00,  5.43it/s]"
          ]
        },
        {
          "output_type": "stream",
          "name": "stdout",
          "text": [
            "                   all         40         51      0.893      0.802      0.875      0.631\n"
          ]
        },
        {
          "output_type": "stream",
          "name": "stderr",
          "text": [
            "\n"
          ]
        },
        {
          "output_type": "stream",
          "name": "stdout",
          "text": [
            "\n",
            "      Epoch    GPU_mem   box_loss   cls_loss   dfl_loss  Instances       Size\n"
          ]
        },
        {
          "output_type": "stream",
          "name": "stderr",
          "text": [
            "      55/60      7.22G     0.5936     0.3276     0.9294         13        640: 100%|██████████| 23/23 [00:06<00:00,  3.43it/s]\n",
            "                 Class     Images  Instances      Box(P          R      mAP50  mAP50-95): 100%|██████████| 2/2 [00:00<00:00,  5.01it/s]"
          ]
        },
        {
          "output_type": "stream",
          "name": "stdout",
          "text": [
            "                   all         40         51      0.881       0.81      0.862      0.606\n"
          ]
        },
        {
          "output_type": "stream",
          "name": "stderr",
          "text": [
            "\n"
          ]
        },
        {
          "output_type": "stream",
          "name": "stdout",
          "text": [
            "\n",
            "      Epoch    GPU_mem   box_loss   cls_loss   dfl_loss  Instances       Size\n"
          ]
        },
        {
          "output_type": "stream",
          "name": "stderr",
          "text": [
            "      56/60      7.28G      0.587     0.3242     0.9343          9        640: 100%|██████████| 23/23 [00:07<00:00,  3.15it/s]\n",
            "                 Class     Images  Instances      Box(P          R      mAP50  mAP50-95): 100%|██████████| 2/2 [00:00<00:00,  5.38it/s]"
          ]
        },
        {
          "output_type": "stream",
          "name": "stdout",
          "text": [
            "                   all         40         51      0.888      0.834      0.873      0.629\n"
          ]
        },
        {
          "output_type": "stream",
          "name": "stderr",
          "text": [
            "\n"
          ]
        },
        {
          "output_type": "stream",
          "name": "stdout",
          "text": [
            "\n",
            "      Epoch    GPU_mem   box_loss   cls_loss   dfl_loss  Instances       Size\n"
          ]
        },
        {
          "output_type": "stream",
          "name": "stderr",
          "text": [
            "      57/60      7.31G     0.5715     0.3213     0.9257          8        640: 100%|██████████| 23/23 [00:06<00:00,  3.53it/s]\n",
            "                 Class     Images  Instances      Box(P          R      mAP50  mAP50-95): 100%|██████████| 2/2 [00:00<00:00,  3.69it/s]"
          ]
        },
        {
          "output_type": "stream",
          "name": "stdout",
          "text": [
            "                   all         40         51      0.901      0.796       0.88      0.635\n"
          ]
        },
        {
          "output_type": "stream",
          "name": "stderr",
          "text": [
            "\n"
          ]
        },
        {
          "output_type": "stream",
          "name": "stdout",
          "text": [
            "\n",
            "      Epoch    GPU_mem   box_loss   cls_loss   dfl_loss  Instances       Size\n"
          ]
        },
        {
          "output_type": "stream",
          "name": "stderr",
          "text": [
            "      58/60      7.35G     0.5721      0.317     0.9301          8        640: 100%|██████████| 23/23 [00:06<00:00,  3.31it/s]\n",
            "                 Class     Images  Instances      Box(P          R      mAP50  mAP50-95): 100%|██████████| 2/2 [00:00<00:00,  5.27it/s]"
          ]
        },
        {
          "output_type": "stream",
          "name": "stdout",
          "text": [
            "                   all         40         51      0.883      0.814      0.886      0.639\n"
          ]
        },
        {
          "output_type": "stream",
          "name": "stderr",
          "text": [
            "\n"
          ]
        },
        {
          "output_type": "stream",
          "name": "stdout",
          "text": [
            "\n",
            "      Epoch    GPU_mem   box_loss   cls_loss   dfl_loss  Instances       Size\n"
          ]
        },
        {
          "output_type": "stream",
          "name": "stderr",
          "text": [
            "      59/60      7.38G     0.5656     0.3111     0.9249          7        640: 100%|██████████| 23/23 [00:07<00:00,  3.17it/s]\n",
            "                 Class     Images  Instances      Box(P          R      mAP50  mAP50-95): 100%|██████████| 2/2 [00:00<00:00,  5.91it/s]"
          ]
        },
        {
          "output_type": "stream",
          "name": "stdout",
          "text": [
            "                   all         40         51      0.886      0.816      0.891      0.646\n"
          ]
        },
        {
          "output_type": "stream",
          "name": "stderr",
          "text": [
            "\n"
          ]
        },
        {
          "output_type": "stream",
          "name": "stdout",
          "text": [
            "\n",
            "      Epoch    GPU_mem   box_loss   cls_loss   dfl_loss  Instances       Size\n"
          ]
        },
        {
          "output_type": "stream",
          "name": "stderr",
          "text": [
            "      60/60      4.35G     0.5725     0.3065      0.923         10        640: 100%|██████████| 23/23 [00:06<00:00,  3.53it/s]\n",
            "                 Class     Images  Instances      Box(P          R      mAP50  mAP50-95): 100%|██████████| 2/2 [00:00<00:00,  5.15it/s]"
          ]
        },
        {
          "output_type": "stream",
          "name": "stdout",
          "text": [
            "                   all         40         51        0.9      0.814      0.892      0.646\n"
          ]
        },
        {
          "output_type": "stream",
          "name": "stderr",
          "text": [
            "\n"
          ]
        },
        {
          "output_type": "stream",
          "name": "stdout",
          "text": [
            "\n",
            "60 epochs completed in 0.135 hours.\n",
            "Optimizer stripped from runs/detect/train/weights/last.pt, 19.2MB\n",
            "Optimizer stripped from runs/detect/train/weights/best.pt, 19.2MB\n",
            "\n",
            "Validating runs/detect/train/weights/best.pt...\n",
            "Ultralytics 8.3.179 🚀 Python-3.11.13 torch-2.6.0+cu124 CUDA:0 (Tesla T4, 15095MiB)\n",
            "YOLO11s summary (fused): 100 layers, 9,414,735 parameters, 0 gradients, 21.3 GFLOPs\n"
          ]
        },
        {
          "output_type": "stream",
          "name": "stderr",
          "text": [
            "                 Class     Images  Instances      Box(P          R      mAP50  mAP50-95): 100%|██████████| 2/2 [00:00<00:00,  3.22it/s]\n"
          ]
        },
        {
          "output_type": "stream",
          "name": "stdout",
          "text": [
            "                   all         40         51      0.852       0.82      0.894      0.653\n",
            "              calculus          7          7      0.967      0.857      0.913      0.693\n",
            "               haddock         12         12      0.969      0.667      0.942      0.689\n",
            "                 snowy          8          8      0.742       0.75      0.695      0.451\n",
            "              thompson          6          8      0.703       0.89      0.962      0.743\n",
            "                tintin         16         16      0.879      0.938       0.96      0.688\n",
            "Speed: 0.3ms preprocess, 5.7ms inference, 0.0ms loss, 2.0ms postprocess per image\n",
            "Results saved to \u001b[1mruns/detect/train\u001b[0m\n"
          ]
        }
      ]
    },
    {
      "cell_type": "code",
      "source": [
        " from ultralytics import YOLO\n",
        "\n",
        " trained_model = YOLO(\"/content/runs/detect/train/weights/best.pt\")\n",
        " trained_model.predict(source=\"data/validation/images\", save=True)"
      ],
      "metadata": {
        "colab": {
          "base_uri": "https://localhost:8080/"
        },
        "id": "Lsqw7pm74Pnt",
        "outputId": "03cec01e-a38b-4223-f959-33ad28d6e957"
      },
      "execution_count": null,
      "outputs": [
        {
          "output_type": "stream",
          "name": "stdout",
          "text": [
            "\n",
            "image 1/40 /content/data/validation/images/0164276c-15_tintin_and_the_land_of_black_gold_page_04_panel_08.jpg: 640x640 2 thompsons, 1 tintin, 15.7ms\n",
            "image 2/40 /content/data/validation/images/095fb563-17_tintin_and_the_explorers_on_the_moon_page_17_panel_03.jpg: 640x512 1 calculus, 1 haddock, 79.6ms\n",
            "image 3/40 /content/data/validation/images/0dd94885-17_tintin_and_the_explorers_on_the_moon_page_09_panel_07.jpg: 640x480 1 calculus, 1 tintin, 72.4ms\n",
            "image 4/40 /content/data/validation/images/11aa1eda-08_tintin_and_the_king_ottokars_sceptre_page_08_panel_07.jpg: 640x416 1 snowy, 1 tintin, 73.9ms\n",
            "image 5/40 /content/data/validation/images/17a41d5f-17_tintin_and_the_explorers_on_the_moon_page_12_panel_08.jpg: 416x640 2 tintins, 80.6ms\n",
            "image 6/40 /content/data/validation/images/1ed65b99-17_tintin_and_the_explorers_on_the_moon_page_06_panel_07.jpg: 640x576 1 haddock, 82.8ms\n",
            "image 7/40 /content/data/validation/images/380343f8-17_tintin_and_the_explorers_on_the_moon_page_18_panel_14.jpg: 352x640 (no detections), 82.3ms\n",
            "image 8/40 /content/data/validation/images/3a2e3d4e-17_tintin_and_the_explorers_on_the_moon_page_09_panel_01.jpg: 640x480 1 calculus, 1 tintin, 20.7ms\n",
            "image 9/40 /content/data/validation/images/400bf078-15_tintin_and_the_land_of_black_gold_page_08_panel_03.jpg: 640x480 1 tintin, 22.7ms\n",
            "image 10/40 /content/data/validation/images/4b6d4a49-17_tintin_and_the_explorers_on_the_moon_page_17_panel_07.jpg: 640x512 1 haddock, 1 tintin, 16.4ms\n",
            "image 11/40 /content/data/validation/images/4c067d14-17_tintin_and_the_explorers_on_the_moon_page_03_panel_05.jpg: 640x448 (no detections), 81.5ms\n",
            "image 12/40 /content/data/validation/images/5808a45b-17_tintin_and_the_explorers_on_the_moon_page_06_panel_15.jpg: 544x640 1 calculus, 1 thompson, 73.5ms\n",
            "image 13/40 /content/data/validation/images/61e401db-17_tintin_and_the_explorers_on_the_moon_page_07_panel_06.jpg: 640x608 1 haddock, 1 snowy, 80.9ms\n",
            "image 14/40 /content/data/validation/images/61e6ddfe-10_tintin_and_the_shooting_star_page_46_panel_12.jpg: 640x320 (no detections), 97.1ms\n",
            "image 15/40 /content/data/validation/images/65ac4c9f-15_tintin_and_the_land_of_black_gold_page_04_panel_11.jpg: 640x480 1 tintin, 13.7ms\n",
            "image 16/40 /content/data/validation/images/729fed9b-08_tintin_and_the_king_ottokars_sceptre_page_08_panel_02.jpg: 640x480 1 snowy, 1 tintin, 14.4ms\n",
            "image 17/40 /content/data/validation/images/72e90907-11_tintin_and_the_secret_of_the_unicorn_page_40_panel_13.jpg: 512x640 1 tintin, 79.1ms\n",
            "image 18/40 /content/data/validation/images/77faf4fb-17_tintin_and_the_explorers_on_the_moon_page_07_panel_03.jpg: 640x640 1 snowy, 17.8ms\n",
            "image 19/40 /content/data/validation/images/80a145bb-08_tintin_and_the_king_ottokars_sceptre_page_08_panel_01.jpg: 640x448 1 snowy, 1 tintin, 17.1ms\n",
            "image 20/40 /content/data/validation/images/8583c35e-17_tintin_and_the_explorers_on_the_moon_page_09_panel_06.jpg: 640x576 1 tintin, 17.5ms\n",
            "image 21/40 /content/data/validation/images/99ac7670-17_tintin_and_the_explorers_on_the_moon_page_03_panel_13.jpg: 448x640 1 calculus, 1 haddock, 1 tintin, 73.1ms\n",
            "image 22/40 /content/data/validation/images/9fb3576f-19_tintin_and_the_red_sea_shar_page_27_panel_14.jpg: 448x640 (no detections), 12.2ms\n",
            "image 23/40 /content/data/validation/images/acbb0c74-17_tintin_and_the_explorers_on_the_moon_page_05_panel_12.jpg: 544x640 1 haddock, 15.5ms\n",
            "image 24/40 /content/data/validation/images/ad962dd7-09_tintin_and_the_crabs_with_the_golden_claws_page_17_panel_09.jpg: 576x640 1 haddock, 51.3ms\n",
            "image 25/40 /content/data/validation/images/af7dab61-15_tintin_and_the_land_of_black_gold_page_09_panel_03.jpg: 640x544 3 thompsons, 1 tintin, 48.4ms\n",
            "image 26/40 /content/data/validation/images/b3c4e33a-15_tintin_and_the_land_of_black_gold_page_09_panel_08.jpg: 576x640 2 thompsons, 15.8ms\n",
            "image 27/40 /content/data/validation/images/b45bf2dc-17_tintin_and_the_explorers_on_the_moon_page_18_panel_01.jpg: 640x608 (no detections), 16.1ms\n",
            "image 28/40 /content/data/validation/images/b4d017d0-09_tintin_and_the_crabs_with_the_golden_claws_page_26_panel_08.jpg: 640x480 1 haddock, 1 tintin, 13.1ms\n",
            "image 29/40 /content/data/validation/images/c0521b43-04_tintin_and_the_cigars_of_the_pharaoh_page_13_panel_12.jpg: 480x640 3 snowys, 1 tintin, 48.7ms\n",
            "image 30/40 /content/data/validation/images/c87ef29e-17_tintin_and_the_explorers_on_the_moon_page_12_panel_10.jpg: 480x640 (no detections), 12.4ms\n",
            "image 31/40 /content/data/validation/images/c9d18975-17_tintin_and_the_explorers_on_the_moon_page_15_panel_06.jpg: 224x640 (no detections), 49.1ms\n",
            "image 32/40 /content/data/validation/images/cef99604-17_tintin_and_the_explorers_on_the_moon_page_06_panel_01.jpg: 640x576 (no detections), 15.7ms\n",
            "image 33/40 /content/data/validation/images/d1997917-17_tintin_and_the_explorers_on_the_moon_page_05_panel_01.jpg: 640x608 1 haddock, 1 snowy, 1 thompson, 15.9ms\n",
            "image 34/40 /content/data/validation/images/d4943ecd-17_tintin_and_the_explorers_on_the_moon_page_02_panel_03.jpg: 288x640 (no detections), 47.8ms\n",
            "image 35/40 /content/data/validation/images/d5ce93dd-17_tintin_and_the_explorers_on_the_moon_page_17_panel_02.jpg: 640x512 1 haddock, 13.0ms\n",
            "image 36/40 /content/data/validation/images/e46777dc-09_tintin_and_the_crabs_with_the_golden_claws_page_17_panel_04.jpg: 640x544 1 tintin, 15.8ms\n",
            "image 37/40 /content/data/validation/images/ede401ad-17_tintin_and_the_explorers_on_the_moon_page_04_panel_08.jpg: 640x480 1 calculus, 1 thompson, 13.0ms\n",
            "image 38/40 /content/data/validation/images/eece5bab-15_tintin_and_the_land_of_black_gold_page_02_panel_05.jpg: 640x544 1 thompson, 15.8ms\n",
            "image 39/40 /content/data/validation/images/f333e5fb-17_tintin_and_the_explorers_on_the_moon_page_03_panel_14.jpg: 448x640 1 snowy, 1 tintin, 12.9ms\n",
            "image 40/40 /content/data/validation/images/fa4d29b6-17_tintin_and_the_explorers_on_the_moon_page_11_panel_05.jpg: 448x640 (no detections), 12.2ms\n",
            "Speed: 2.7ms preprocess, 38.9ms inference, 1.8ms postprocess per image at shape (1, 3, 448, 640)\n",
            "Results saved to \u001b[1mruns/detect/predict\u001b[0m\n"
          ]
        },
        {
          "output_type": "execute_result",
          "data": {
            "text/plain": [
              "[ultralytics.engine.results.Results object with attributes:\n",
              " \n",
              " boxes: ultralytics.engine.results.Boxes object\n",
              " keypoints: None\n",
              " masks: None\n",
              " names: {0: 'calculus', 1: 'haddock', 2: 'snowy', 3: 'thompson', 4: 'tintin'}\n",
              " obb: None\n",
              " orig_img: array([[[237, 248, 252],\n",
              "         [237, 248, 252],\n",
              "         [240, 249, 252],\n",
              "         ...,\n",
              "         [231, 244, 252],\n",
              "         [231, 244, 252],\n",
              "         [230, 243, 251]],\n",
              " \n",
              "        [[238, 249, 253],\n",
              "         [239, 250, 254],\n",
              "         [241, 250, 253],\n",
              "         ...,\n",
              "         [229, 242, 250],\n",
              "         [229, 242, 250],\n",
              "         [229, 242, 250]],\n",
              " \n",
              "        [[239, 250, 254],\n",
              "         [239, 250, 254],\n",
              "         [241, 250, 253],\n",
              "         ...,\n",
              "         [230, 243, 251],\n",
              "         [230, 243, 251],\n",
              "         [231, 244, 252]],\n",
              " \n",
              "        ...,\n",
              " \n",
              "        [[246, 255, 255],\n",
              "         [246, 255, 255],\n",
              "         [246, 254, 254],\n",
              "         ...,\n",
              "         [232, 245, 253],\n",
              "         [234, 247, 255],\n",
              "         [233, 246, 254]],\n",
              " \n",
              "        [[241, 252, 250],\n",
              "         [242, 253, 251],\n",
              "         [245, 253, 253],\n",
              "         ...,\n",
              "         [233, 246, 254],\n",
              "         [235, 248, 255],\n",
              "         [235, 248, 255]],\n",
              " \n",
              "        [[244, 255, 253],\n",
              "         [244, 255, 253],\n",
              "         [246, 254, 253],\n",
              "         ...,\n",
              "         [232, 245, 253],\n",
              "         [234, 247, 255],\n",
              "         [235, 248, 255]]], dtype=uint8)\n",
              " orig_shape: (264, 255)\n",
              " path: '/content/data/validation/images/0164276c-15_tintin_and_the_land_of_black_gold_page_04_panel_08.jpg'\n",
              " probs: None\n",
              " save_dir: 'runs/detect/predict'\n",
              " speed: {'preprocess': 3.970570999968004, 'inference': 15.707285000075899, 'postprocess': 2.987898000014866},\n",
              " ultralytics.engine.results.Results object with attributes:\n",
              " \n",
              " boxes: ultralytics.engine.results.Boxes object\n",
              " keypoints: None\n",
              " masks: None\n",
              " names: {0: 'calculus', 1: 'haddock', 2: 'snowy', 3: 'thompson', 4: 'tintin'}\n",
              " obb: None\n",
              " orig_img: array([[[236, 237, 241],\n",
              "         [235, 236, 240],\n",
              "         [227, 228, 232],\n",
              "         ...,\n",
              "         [228, 232, 233],\n",
              "         [228, 232, 233],\n",
              "         [229, 233, 234]],\n",
              " \n",
              "        [[241, 242, 246],\n",
              "         [244, 245, 249],\n",
              "         [234, 235, 239],\n",
              "         ...,\n",
              "         [243, 247, 248],\n",
              "         [243, 247, 248],\n",
              "         [243, 247, 248]],\n",
              " \n",
              "        [[242, 243, 247],\n",
              "         [250, 251, 255],\n",
              "         [241, 242, 246],\n",
              "         ...,\n",
              "         [236, 240, 241],\n",
              "         [236, 240, 241],\n",
              "         [237, 241, 242]],\n",
              " \n",
              "        ...,\n",
              " \n",
              "        [[250, 254, 255],\n",
              "         [250, 251, 255],\n",
              "         [248, 249, 253],\n",
              "         ...,\n",
              "         [240, 247, 250],\n",
              "         [241, 248, 251],\n",
              "         [242, 249, 252]],\n",
              " \n",
              "        [[243, 253, 253],\n",
              "         [244, 252, 252],\n",
              "         [244, 249, 252],\n",
              "         ...,\n",
              "         [238, 245, 248],\n",
              "         [238, 245, 248],\n",
              "         [238, 245, 248]],\n",
              " \n",
              "        [[241, 250, 253],\n",
              "         [239, 248, 251],\n",
              "         [237, 246, 249],\n",
              "         ...,\n",
              "         [244, 249, 252],\n",
              "         [244, 249, 252],\n",
              "         [244, 249, 252]]], dtype=uint8)\n",
              " orig_shape: (273, 207)\n",
              " path: '/content/data/validation/images/095fb563-17_tintin_and_the_explorers_on_the_moon_page_17_panel_03.jpg'\n",
              " probs: None\n",
              " save_dir: 'runs/detect/predict'\n",
              " speed: {'preprocess': 3.3716840000579396, 'inference': 79.6442590000197, 'postprocess': 1.762154999937593},\n",
              " ultralytics.engine.results.Results object with attributes:\n",
              " \n",
              " boxes: ultralytics.engine.results.Boxes object\n",
              " keypoints: None\n",
              " masks: None\n",
              " names: {0: 'calculus', 1: 'haddock', 2: 'snowy', 3: 'thompson', 4: 'tintin'}\n",
              " obb: None\n",
              " orig_img: array([[[250, 255, 254],\n",
              "         [250, 255, 254],\n",
              "         [250, 255, 254],\n",
              "         ...,\n",
              "         [242, 254, 254],\n",
              "         [242, 254, 254],\n",
              "         [242, 254, 254]],\n",
              " \n",
              "        [[250, 255, 254],\n",
              "         [250, 255, 254],\n",
              "         [250, 255, 254],\n",
              "         ...,\n",
              "         [242, 254, 254],\n",
              "         [241, 253, 255],\n",
              "         [241, 253, 255]],\n",
              " \n",
              "        [[250, 255, 254],\n",
              "         [250, 255, 254],\n",
              "         [250, 255, 254],\n",
              "         ...,\n",
              "         [241, 253, 255],\n",
              "         [240, 252, 254],\n",
              "         [240, 252, 254]],\n",
              " \n",
              "        ...,\n",
              " \n",
              "        [[244, 246, 246],\n",
              "         [240, 245, 244],\n",
              "         [239, 244, 243],\n",
              "         ...,\n",
              "         [226, 231, 234],\n",
              "         [226, 231, 234],\n",
              "         [226, 231, 234]],\n",
              " \n",
              "        [[242, 244, 244],\n",
              "         [239, 244, 243],\n",
              "         [238, 243, 242],\n",
              "         ...,\n",
              "         [226, 231, 234],\n",
              "         [226, 231, 234],\n",
              "         [226, 231, 234]],\n",
              " \n",
              "        [[240, 242, 242],\n",
              "         [237, 242, 241],\n",
              "         [236, 241, 240],\n",
              "         ...,\n",
              "         [227, 232, 235],\n",
              "         [227, 232, 235],\n",
              "         [227, 232, 235]]], dtype=uint8)\n",
              " orig_shape: (267, 199)\n",
              " path: '/content/data/validation/images/0dd94885-17_tintin_and_the_explorers_on_the_moon_page_09_panel_07.jpg'\n",
              " probs: None\n",
              " save_dir: 'runs/detect/predict'\n",
              " speed: {'preprocess': 2.827892000027532, 'inference': 72.41587700002583, 'postprocess': 1.9103050000239818},\n",
              " ultralytics.engine.results.Results object with attributes:\n",
              " \n",
              " boxes: ultralytics.engine.results.Boxes object\n",
              " keypoints: None\n",
              " masks: None\n",
              " names: {0: 'calculus', 1: 'haddock', 2: 'snowy', 3: 'thompson', 4: 'tintin'}\n",
              " obb: None\n",
              " orig_img: array([[[198, 206, 219],\n",
              "         [198, 206, 219],\n",
              "         [200, 208, 221],\n",
              "         ...,\n",
              "         [242, 248, 253],\n",
              "         [242, 248, 253],\n",
              "         [242, 248, 253]],\n",
              " \n",
              "        [[200, 208, 221],\n",
              "         [200, 208, 221],\n",
              "         [202, 210, 223],\n",
              "         ...,\n",
              "         [242, 248, 253],\n",
              "         [242, 248, 253],\n",
              "         [242, 248, 253]],\n",
              " \n",
              "        [[198, 207, 217],\n",
              "         [199, 208, 218],\n",
              "         [200, 209, 219],\n",
              "         ...,\n",
              "         [243, 247, 252],\n",
              "         [243, 247, 252],\n",
              "         [243, 247, 252]],\n",
              " \n",
              "        ...,\n",
              " \n",
              "        [[187, 191, 202],\n",
              "         [187, 191, 202],\n",
              "         [189, 193, 204],\n",
              "         ...,\n",
              "         [234, 233, 235],\n",
              "         [235, 234, 236],\n",
              "         [235, 234, 236]],\n",
              " \n",
              "        [[187, 191, 202],\n",
              "         [187, 191, 202],\n",
              "         [189, 193, 204],\n",
              "         ...,\n",
              "         [234, 233, 235],\n",
              "         [235, 234, 236],\n",
              "         [236, 235, 237]],\n",
              " \n",
              "        [[187, 191, 202],\n",
              "         [188, 192, 203],\n",
              "         [189, 193, 204],\n",
              "         ...,\n",
              "         [235, 234, 236],\n",
              "         [235, 234, 236],\n",
              "         [234, 233, 235]]], dtype=uint8)\n",
              " orig_shape: (249, 155)\n",
              " path: '/content/data/validation/images/11aa1eda-08_tintin_and_the_king_ottokars_sceptre_page_08_panel_07.jpg'\n",
              " probs: None\n",
              " save_dir: 'runs/detect/predict'\n",
              " speed: {'preprocess': 2.5061169999389676, 'inference': 73.94453699998849, 'postprocess': 1.8686970000771908},\n",
              " ultralytics.engine.results.Results object with attributes:\n",
              " \n",
              " boxes: ultralytics.engine.results.Boxes object\n",
              " keypoints: None\n",
              " masks: None\n",
              " names: {0: 'calculus', 1: 'haddock', 2: 'snowy', 3: 'thompson', 4: 'tintin'}\n",
              " obb: None\n",
              " orig_img: array([[[209, 218, 222],\n",
              "         [208, 217, 221],\n",
              "         [208, 217, 221],\n",
              "         ...,\n",
              "         [253, 255, 255],\n",
              "         [251, 255, 255],\n",
              "         [251, 255, 255]],\n",
              " \n",
              "        [[208, 217, 221],\n",
              "         [208, 217, 221],\n",
              "         [208, 217, 221],\n",
              "         ...,\n",
              "         [253, 255, 255],\n",
              "         [251, 255, 255],\n",
              "         [251, 255, 255]],\n",
              " \n",
              "        [[208, 217, 221],\n",
              "         [208, 217, 221],\n",
              "         [208, 217, 221],\n",
              "         ...,\n",
              "         [253, 255, 255],\n",
              "         [251, 255, 255],\n",
              "         [251, 255, 255]],\n",
              " \n",
              "        ...,\n",
              " \n",
              "        [[204, 211, 220],\n",
              "         [205, 213, 220],\n",
              "         [205, 213, 220],\n",
              "         ...,\n",
              "         [238, 243, 246],\n",
              "         [236, 241, 244],\n",
              "         [236, 241, 244]],\n",
              " \n",
              "        [[205, 213, 220],\n",
              "         [206, 214, 221],\n",
              "         [205, 214, 218],\n",
              "         ...,\n",
              "         [237, 242, 245],\n",
              "         [236, 241, 244],\n",
              "         [236, 241, 244]],\n",
              " \n",
              "        [[206, 214, 221],\n",
              "         [207, 216, 220],\n",
              "         [206, 215, 219],\n",
              "         ...,\n",
              "         [235, 240, 243],\n",
              "         [235, 240, 243],\n",
              "         [235, 240, 243]]], dtype=uint8)\n",
              " orig_shape: (272, 426)\n",
              " path: '/content/data/validation/images/17a41d5f-17_tintin_and_the_explorers_on_the_moon_page_12_panel_08.jpg'\n",
              " probs: None\n",
              " save_dir: 'runs/detect/predict'\n",
              " speed: {'preprocess': 3.4023000000615866, 'inference': 80.6212960000039, 'postprocess': 2.234010000051967},\n",
              " ultralytics.engine.results.Results object with attributes:\n",
              " \n",
              " boxes: ultralytics.engine.results.Boxes object\n",
              " keypoints: None\n",
              " masks: None\n",
              " names: {0: 'calculus', 1: 'haddock', 2: 'snowy', 3: 'thompson', 4: 'tintin'}\n",
              " obb: None\n",
              " orig_img: array([[[250, 254, 255],\n",
              "         [250, 254, 255],\n",
              "         [250, 254, 255],\n",
              "         ...,\n",
              "         [250, 254, 255],\n",
              "         [250, 254, 255],\n",
              "         [249, 254, 255]],\n",
              " \n",
              "        [[250, 254, 255],\n",
              "         [250, 254, 255],\n",
              "         [250, 254, 255],\n",
              "         ...,\n",
              "         [250, 254, 255],\n",
              "         [250, 254, 255],\n",
              "         [249, 254, 255]],\n",
              " \n",
              "        [[250, 254, 255],\n",
              "         [250, 254, 255],\n",
              "         [250, 254, 255],\n",
              "         ...,\n",
              "         [249, 254, 255],\n",
              "         [249, 254, 255],\n",
              "         [249, 254, 255]],\n",
              " \n",
              "        ...,\n",
              " \n",
              "        [[247, 249, 249],\n",
              "         [247, 249, 249],\n",
              "         [246, 248, 248],\n",
              "         ...,\n",
              "         [247, 252, 253],\n",
              "         [248, 253, 254],\n",
              "         [245, 255, 255]],\n",
              " \n",
              "        [[248, 250, 250],\n",
              "         [247, 249, 249],\n",
              "         [246, 248, 248],\n",
              "         ...,\n",
              "         [246, 251, 252],\n",
              "         [247, 252, 253],\n",
              "         [245, 255, 255]],\n",
              " \n",
              "        [[248, 250, 250],\n",
              "         [247, 249, 249],\n",
              "         [246, 248, 248],\n",
              "         ...,\n",
              "         [245, 250, 251],\n",
              "         [246, 251, 252],\n",
              "         [245, 255, 255]]], dtype=uint8)\n",
              " orig_shape: (208, 177)\n",
              " path: '/content/data/validation/images/1ed65b99-17_tintin_and_the_explorers_on_the_moon_page_06_panel_07.jpg'\n",
              " probs: None\n",
              " save_dir: 'runs/detect/predict'\n",
              " speed: {'preprocess': 3.41398599994136, 'inference': 82.80212800002573, 'postprocess': 2.8507600000011735},\n",
              " ultralytics.engine.results.Results object with attributes:\n",
              " \n",
              " boxes: ultralytics.engine.results.Boxes object\n",
              " keypoints: None\n",
              " masks: None\n",
              " names: {0: 'calculus', 1: 'haddock', 2: 'snowy', 3: 'thompson', 4: 'tintin'}\n",
              " obb: None\n",
              " orig_img: array([[[ 97, 227, 220],\n",
              "         [ 58,  71,  73],\n",
              "         [191, 192, 188],\n",
              "         ...,\n",
              "         [142, 155, 163],\n",
              "         [149, 152, 160],\n",
              "         [133, 136, 144]],\n",
              " \n",
              "        [[ 98, 227, 220],\n",
              "         [ 63,  75,  77],\n",
              "         [200, 199, 195],\n",
              "         ...,\n",
              "         [143, 154, 162],\n",
              "         [143, 149, 154],\n",
              "         [141, 145, 150]],\n",
              " \n",
              "        [[101, 227, 221],\n",
              "         [ 67,  76,  79],\n",
              "         [206, 205, 201],\n",
              "         ...,\n",
              "         [131, 142, 150],\n",
              "         [145, 154, 157],\n",
              "         [143, 153, 153]],\n",
              " \n",
              "        ...,\n",
              " \n",
              "        [[241, 249, 249],\n",
              "         [238, 248, 248],\n",
              "         [234, 244, 244],\n",
              "         ...,\n",
              "         [249, 250, 248],\n",
              "         [244, 246, 246],\n",
              "         [244, 246, 246]],\n",
              " \n",
              "        [[245, 253, 253],\n",
              "         [246, 254, 254],\n",
              "         [243, 251, 251],\n",
              "         ...,\n",
              "         [236, 241, 240],\n",
              "         [246, 252, 251],\n",
              "         [249, 255, 254]],\n",
              " \n",
              "        [[242, 250, 250],\n",
              "         [244, 252, 252],\n",
              "         [242, 250, 250],\n",
              "         ...,\n",
              "         [233, 238, 237],\n",
              "         [238, 244, 243],\n",
              "         [241, 247, 246]]], dtype=uint8)\n",
              " orig_shape: (130, 250)\n",
              " path: '/content/data/validation/images/380343f8-17_tintin_and_the_explorers_on_the_moon_page_18_panel_14.jpg'\n",
              " probs: None\n",
              " save_dir: 'runs/detect/predict'\n",
              " speed: {'preprocess': 2.1465979999675255, 'inference': 82.34640100010893, 'postprocess': 1.1058259999572329},\n",
              " ultralytics.engine.results.Results object with attributes:\n",
              " \n",
              " boxes: ultralytics.engine.results.Boxes object\n",
              " keypoints: None\n",
              " masks: None\n",
              " names: {0: 'calculus', 1: 'haddock', 2: 'snowy', 3: 'thompson', 4: 'tintin'}\n",
              " obb: None\n",
              " orig_img: array([[[237, 249, 253],\n",
              "         [237, 249, 253],\n",
              "         [237, 249, 253],\n",
              "         ...,\n",
              "         [222, 233, 237],\n",
              "         [215, 226, 230],\n",
              "         [198, 207, 211]],\n",
              " \n",
              "        [[236, 248, 252],\n",
              "         [236, 248, 252],\n",
              "         [236, 248, 252],\n",
              "         ...,\n",
              "         [220, 231, 235],\n",
              "         [213, 224, 228],\n",
              "         [197, 206, 210]],\n",
              " \n",
              "        [[236, 248, 252],\n",
              "         [236, 248, 252],\n",
              "         [236, 248, 252],\n",
              "         ...,\n",
              "         [220, 231, 235],\n",
              "         [214, 225, 229],\n",
              "         [198, 207, 211]],\n",
              " \n",
              "        ...,\n",
              " \n",
              "        [[216, 229, 231],\n",
              "         [216, 229, 231],\n",
              "         [214, 227, 229],\n",
              "         ...,\n",
              "         [170, 175, 178],\n",
              "         [170, 175, 178],\n",
              "         [169, 174, 177]],\n",
              " \n",
              "        [[217, 230, 232],\n",
              "         [216, 229, 231],\n",
              "         [214, 227, 229],\n",
              "         ...,\n",
              "         [165, 170, 173],\n",
              "         [165, 170, 173],\n",
              "         [166, 171, 174]],\n",
              " \n",
              "        [[218, 230, 232],\n",
              "         [217, 229, 231],\n",
              "         [216, 228, 230],\n",
              "         ...,\n",
              "         [172, 177, 180],\n",
              "         [169, 174, 177],\n",
              "         [166, 171, 174]]], dtype=uint8)\n",
              " orig_shape: (270, 196)\n",
              " path: '/content/data/validation/images/3a2e3d4e-17_tintin_and_the_explorers_on_the_moon_page_09_panel_01.jpg'\n",
              " probs: None\n",
              " save_dir: 'runs/detect/predict'\n",
              " speed: {'preprocess': 2.908692999994855, 'inference': 20.672861999969427, 'postprocess': 2.2697289999769055},\n",
              " ultralytics.engine.results.Results object with attributes:\n",
              " \n",
              " boxes: ultralytics.engine.results.Boxes object\n",
              " keypoints: None\n",
              " masks: None\n",
              " names: {0: 'calculus', 1: 'haddock', 2: 'snowy', 3: 'thompson', 4: 'tintin'}\n",
              " obb: None\n",
              " orig_img: array([[[225, 236, 240],\n",
              "         [227, 238, 242],\n",
              "         [231, 240, 244],\n",
              "         ...,\n",
              "         [245, 250, 251],\n",
              "         [242, 250, 250],\n",
              "         [242, 250, 250]],\n",
              " \n",
              "        [[227, 236, 240],\n",
              "         [229, 238, 242],\n",
              "         [230, 239, 243],\n",
              "         ...,\n",
              "         [247, 252, 253],\n",
              "         [247, 252, 253],\n",
              "         [247, 252, 253]],\n",
              " \n",
              "        [[231, 238, 241],\n",
              "         [232, 239, 242],\n",
              "         [232, 239, 242],\n",
              "         ...,\n",
              "         [248, 251, 255],\n",
              "         [247, 250, 254],\n",
              "         [247, 250, 254]],\n",
              " \n",
              "        ...,\n",
              " \n",
              "        [[229, 238, 242],\n",
              "         [229, 238, 242],\n",
              "         [229, 238, 242],\n",
              "         ...,\n",
              "         [242, 254, 255],\n",
              "         [243, 252, 255],\n",
              "         [243, 252, 255]],\n",
              " \n",
              "        [[229, 238, 242],\n",
              "         [229, 238, 242],\n",
              "         [229, 238, 242],\n",
              "         ...,\n",
              "         [248, 254, 253],\n",
              "         [248, 254, 253],\n",
              "         [249, 254, 253]],\n",
              " \n",
              "        [[229, 238, 242],\n",
              "         [229, 238, 242],\n",
              "         [229, 238, 242],\n",
              "         ...,\n",
              "         [249, 254, 252],\n",
              "         [251, 254, 252],\n",
              "         [253, 254, 252]]], dtype=uint8)\n",
              " orig_shape: (270, 196)\n",
              " path: '/content/data/validation/images/400bf078-15_tintin_and_the_land_of_black_gold_page_08_panel_03.jpg'\n",
              " probs: None\n",
              " save_dir: 'runs/detect/predict'\n",
              " speed: {'preprocess': 2.7996339999845077, 'inference': 22.686881000026915, 'postprocess': 7.093538000049193},\n",
              " ultralytics.engine.results.Results object with attributes:\n",
              " \n",
              " boxes: ultralytics.engine.results.Boxes object\n",
              " keypoints: None\n",
              " masks: None\n",
              " names: {0: 'calculus', 1: 'haddock', 2: 'snowy', 3: 'thompson', 4: 'tintin'}\n",
              " obb: None\n",
              " orig_img: array([[[238, 248, 248],\n",
              "         [237, 247, 247],\n",
              "         [238, 248, 248],\n",
              "         ...,\n",
              "         [212, 217, 218],\n",
              "         [211, 216, 217],\n",
              "         [210, 215, 216]],\n",
              " \n",
              "        [[241, 251, 251],\n",
              "         [240, 250, 250],\n",
              "         [241, 251, 251],\n",
              "         ...,\n",
              "         [215, 220, 221],\n",
              "         [214, 219, 220],\n",
              "         [214, 219, 220]],\n",
              " \n",
              "        [[242, 251, 254],\n",
              "         [242, 251, 254],\n",
              "         [241, 250, 253],\n",
              "         ...,\n",
              "         [216, 221, 222],\n",
              "         [215, 220, 221],\n",
              "         [216, 220, 221]],\n",
              " \n",
              "        ...,\n",
              " \n",
              "        [[219, 228, 231],\n",
              "         [218, 227, 230],\n",
              "         [219, 228, 231],\n",
              "         ...,\n",
              "         [211, 220, 224],\n",
              "         [210, 219, 223],\n",
              "         [208, 218, 225]],\n",
              " \n",
              "        [[226, 235, 238],\n",
              "         [224, 233, 236],\n",
              "         [224, 233, 236],\n",
              "         ...,\n",
              "         [213, 222, 226],\n",
              "         [212, 221, 225],\n",
              "         [209, 219, 226]],\n",
              " \n",
              "        [[214, 223, 227],\n",
              "         [214, 223, 227],\n",
              "         [215, 224, 228],\n",
              "         ...,\n",
              "         [217, 226, 230],\n",
              "         [216, 225, 229],\n",
              "         [212, 222, 229]]], dtype=uint8)\n",
              " orig_shape: (251, 192)\n",
              " path: '/content/data/validation/images/4b6d4a49-17_tintin_and_the_explorers_on_the_moon_page_17_panel_07.jpg'\n",
              " probs: None\n",
              " save_dir: 'runs/detect/predict'\n",
              " speed: {'preprocess': 2.9518129999814846, 'inference': 16.428065000013703, 'postprocess': 1.9913930000257096},\n",
              " ultralytics.engine.results.Results object with attributes:\n",
              " \n",
              " boxes: ultralytics.engine.results.Boxes object\n",
              " keypoints: None\n",
              " masks: None\n",
              " names: {0: 'calculus', 1: 'haddock', 2: 'snowy', 3: 'thompson', 4: 'tintin'}\n",
              " obb: None\n",
              " orig_img: array([[[237, 240, 245],\n",
              "         [233, 236, 241],\n",
              "         [232, 232, 238],\n",
              "         ...,\n",
              "         [246, 251, 254],\n",
              "         [246, 249, 253],\n",
              "         [245, 248, 252]],\n",
              " \n",
              "        [[237, 240, 245],\n",
              "         [233, 236, 241],\n",
              "         [232, 235, 240],\n",
              "         ...,\n",
              "         [246, 251, 254],\n",
              "         [247, 250, 254],\n",
              "         [247, 250, 254]],\n",
              " \n",
              "        [[238, 241, 246],\n",
              "         [235, 238, 243],\n",
              "         [236, 239, 244],\n",
              "         ...,\n",
              "         [244, 249, 252],\n",
              "         [246, 249, 253],\n",
              "         [248, 251, 255]],\n",
              " \n",
              "        ...,\n",
              " \n",
              "        [[242, 244, 245],\n",
              "         [241, 243, 244],\n",
              "         [240, 242, 243],\n",
              "         ...,\n",
              "         [238, 240, 241],\n",
              "         [229, 231, 232],\n",
              "         [234, 236, 237]],\n",
              " \n",
              "        [[240, 242, 243],\n",
              "         [241, 243, 244],\n",
              "         [241, 243, 244],\n",
              "         ...,\n",
              "         [229, 231, 232],\n",
              "         [229, 231, 232],\n",
              "         [232, 234, 235]],\n",
              " \n",
              "        [[239, 241, 242],\n",
              "         [240, 242, 243],\n",
              "         [240, 242, 243],\n",
              "         ...,\n",
              "         [219, 221, 222],\n",
              "         [228, 230, 231],\n",
              "         [227, 229, 230]]], dtype=uint8)\n",
              " orig_shape: (272, 182)\n",
              " path: '/content/data/validation/images/4c067d14-17_tintin_and_the_explorers_on_the_moon_page_03_panel_05.jpg'\n",
              " probs: None\n",
              " save_dir: 'runs/detect/predict'\n",
              " speed: {'preprocess': 2.836428000023261, 'inference': 81.49206699999922, 'postprocess': 0.916533999998137},\n",
              " ultralytics.engine.results.Results object with attributes:\n",
              " \n",
              " boxes: ultralytics.engine.results.Boxes object\n",
              " keypoints: None\n",
              " masks: None\n",
              " names: {0: 'calculus', 1: 'haddock', 2: 'snowy', 3: 'thompson', 4: 'tintin'}\n",
              " obb: None\n",
              " orig_img: array([[[176, 186, 193],\n",
              "         [155, 167, 177],\n",
              "         [146, 162, 175],\n",
              "         ...,\n",
              "         [242, 245, 249],\n",
              "         [240, 242, 243],\n",
              "         [242, 244, 244]],\n",
              " \n",
              "        [[177, 187, 194],\n",
              "         [156, 168, 178],\n",
              "         [147, 163, 176],\n",
              "         ...,\n",
              "         [242, 245, 249],\n",
              "         [243, 245, 246],\n",
              "         [244, 246, 246]],\n",
              " \n",
              "        [[180, 190, 197],\n",
              "         [158, 170, 180],\n",
              "         [149, 165, 178],\n",
              "         ...,\n",
              "         [242, 245, 249],\n",
              "         [246, 248, 249],\n",
              "         [246, 248, 248]],\n",
              " \n",
              "        ...,\n",
              " \n",
              "        [[203, 218, 221],\n",
              "         [196, 210, 216],\n",
              "         [191, 207, 213],\n",
              "         ...,\n",
              "         [236, 241, 242],\n",
              "         [236, 241, 242],\n",
              "         [235, 240, 241]],\n",
              " \n",
              "        [[205, 220, 223],\n",
              "         [196, 210, 216],\n",
              "         [188, 204, 210],\n",
              "         ...,\n",
              "         [239, 244, 245],\n",
              "         [238, 243, 244],\n",
              "         [238, 243, 244]],\n",
              " \n",
              "        [[198, 210, 214],\n",
              "         [205, 213, 220],\n",
              "         [197, 203, 210],\n",
              "         ...,\n",
              "         [234, 241, 244],\n",
              "         [229, 241, 243],\n",
              "         [230, 242, 244]]], dtype=uint8)\n",
              " orig_shape: (265, 321)\n",
              " path: '/content/data/validation/images/5808a45b-17_tintin_and_the_explorers_on_the_moon_page_06_panel_15.jpg'\n",
              " probs: None\n",
              " save_dir: 'runs/detect/predict'\n",
              " speed: {'preprocess': 2.9916250000496802, 'inference': 73.46695199998976, 'postprocess': 1.9899640000176078},\n",
              " ultralytics.engine.results.Results object with attributes:\n",
              " \n",
              " boxes: ultralytics.engine.results.Boxes object\n",
              " keypoints: None\n",
              " masks: None\n",
              " names: {0: 'calculus', 1: 'haddock', 2: 'snowy', 3: 'thompson', 4: 'tintin'}\n",
              " obb: None\n",
              " orig_img: array([[[242, 247, 246],\n",
              "         [239, 244, 243],\n",
              "         [240, 245, 244],\n",
              "         ...,\n",
              "         [229, 233, 234],\n",
              "         [225, 228, 232],\n",
              "         [223, 226, 230]],\n",
              " \n",
              "        [[240, 245, 244],\n",
              "         [239, 244, 243],\n",
              "         [240, 245, 244],\n",
              "         ...,\n",
              "         [233, 237, 238],\n",
              "         [233, 236, 240],\n",
              "         [230, 233, 237]],\n",
              " \n",
              "        [[241, 246, 245],\n",
              "         [243, 248, 247],\n",
              "         [243, 248, 247],\n",
              "         ...,\n",
              "         [244, 248, 249],\n",
              "         [239, 242, 246],\n",
              "         [235, 238, 242]],\n",
              " \n",
              "        ...,\n",
              " \n",
              "        [[241, 250, 253],\n",
              "         [242, 251, 254],\n",
              "         [241, 250, 253],\n",
              "         ...,\n",
              "         [230, 239, 243],\n",
              "         [230, 239, 243],\n",
              "         [229, 238, 242]],\n",
              " \n",
              "        [[242, 251, 254],\n",
              "         [242, 251, 254],\n",
              "         [242, 251, 254],\n",
              "         ...,\n",
              "         [230, 239, 243],\n",
              "         [230, 239, 243],\n",
              "         [229, 238, 242]],\n",
              " \n",
              "        [[242, 251, 254],\n",
              "         [242, 251, 254],\n",
              "         [242, 251, 254],\n",
              "         ...,\n",
              "         [230, 239, 243],\n",
              "         [230, 239, 243],\n",
              "         [229, 238, 242]]], dtype=uint8)\n",
              " orig_shape: (228, 210)\n",
              " path: '/content/data/validation/images/61e401db-17_tintin_and_the_explorers_on_the_moon_page_07_panel_06.jpg'\n",
              " probs: None\n",
              " save_dir: 'runs/detect/predict'\n",
              " speed: {'preprocess': 3.5797049999928277, 'inference': 80.90292500003216, 'postprocess': 2.286749000063537},\n",
              " ultralytics.engine.results.Results object with attributes:\n",
              " \n",
              " boxes: ultralytics.engine.results.Boxes object\n",
              " keypoints: None\n",
              " masks: None\n",
              " names: {0: 'calculus', 1: 'haddock', 2: 'snowy', 3: 'thompson', 4: 'tintin'}\n",
              " obb: None\n",
              " orig_img: array([[[222, 234, 238],\n",
              "         [223, 235, 239],\n",
              "         [223, 235, 239],\n",
              "         ...,\n",
              "         [243, 249, 248],\n",
              "         [244, 250, 249],\n",
              "         [244, 250, 249]],\n",
              " \n",
              "        [[223, 235, 239],\n",
              "         [224, 236, 240],\n",
              "         [223, 235, 239],\n",
              "         ...,\n",
              "         [246, 252, 251],\n",
              "         [248, 253, 254],\n",
              "         [248, 253, 254]],\n",
              " \n",
              "        [[224, 236, 240],\n",
              "         [225, 237, 241],\n",
              "         [224, 236, 240],\n",
              "         ...,\n",
              "         [246, 254, 254],\n",
              "         [247, 255, 255],\n",
              "         [247, 255, 255]],\n",
              " \n",
              "        ...,\n",
              " \n",
              "        [[218, 230, 234],\n",
              "         [218, 230, 234],\n",
              "         [218, 230, 234],\n",
              "         ...,\n",
              "         [250, 254, 255],\n",
              "         [249, 255, 254],\n",
              "         [249, 255, 254]],\n",
              " \n",
              "        [[218, 230, 234],\n",
              "         [218, 230, 234],\n",
              "         [218, 230, 234],\n",
              "         ...,\n",
              "         [246, 250, 251],\n",
              "         [245, 250, 251],\n",
              "         [245, 250, 251]],\n",
              " \n",
              "        [[218, 230, 234],\n",
              "         [218, 230, 234],\n",
              "         [218, 230, 234],\n",
              "         ...,\n",
              "         [238, 242, 243],\n",
              "         [238, 242, 243],\n",
              "         [238, 242, 243]]], dtype=uint8)\n",
              " orig_shape: (275, 130)\n",
              " path: '/content/data/validation/images/61e6ddfe-10_tintin_and_the_shooting_star_page_46_panel_12.jpg'\n",
              " probs: None\n",
              " save_dir: 'runs/detect/predict'\n",
              " speed: {'preprocess': 2.178268999955435, 'inference': 97.06889599999613, 'postprocess': 1.157229999989795},\n",
              " ultralytics.engine.results.Results object with attributes:\n",
              " \n",
              " boxes: ultralytics.engine.results.Boxes object\n",
              " keypoints: None\n",
              " masks: None\n",
              " names: {0: 'calculus', 1: 'haddock', 2: 'snowy', 3: 'thompson', 4: 'tintin'}\n",
              " obb: None\n",
              " orig_img: array([[[240, 243, 247],\n",
              "         [232, 238, 237],\n",
              "         [231, 238, 235],\n",
              "         ...,\n",
              "         [237, 243, 250],\n",
              "         [235, 241, 248],\n",
              "         [234, 243, 247]],\n",
              " \n",
              "        [[241, 244, 248],\n",
              "         [234, 238, 239],\n",
              "         [227, 232, 230],\n",
              "         ...,\n",
              "         [238, 241, 249],\n",
              "         [234, 242, 249],\n",
              "         [235, 245, 252]],\n",
              " \n",
              "        [[242, 243, 247],\n",
              "         [236, 238, 239],\n",
              "         [229, 234, 232],\n",
              "         ...,\n",
              "         [237, 239, 249],\n",
              "         [233, 240, 249],\n",
              "         [235, 246, 254]],\n",
              " \n",
              "        ...,\n",
              " \n",
              "        [[244, 253, 255],\n",
              "         [244, 253, 255],\n",
              "         [244, 253, 255],\n",
              "         ...,\n",
              "         [249, 255, 254],\n",
              "         [250, 255, 255],\n",
              "         [250, 255, 255]],\n",
              " \n",
              "        [[245, 255, 255],\n",
              "         [245, 255, 255],\n",
              "         [245, 255, 255],\n",
              "         ...,\n",
              "         [249, 255, 254],\n",
              "         [249, 255, 254],\n",
              "         [249, 255, 254]],\n",
              " \n",
              "        [[244, 254, 254],\n",
              "         [244, 254, 254],\n",
              "         [244, 254, 254],\n",
              "         ...,\n",
              "         [246, 252, 251],\n",
              "         [246, 252, 251],\n",
              "         [247, 253, 252]]], dtype=uint8)\n",
              " orig_shape: (192, 144)\n",
              " path: '/content/data/validation/images/65ac4c9f-15_tintin_and_the_land_of_black_gold_page_04_panel_11.jpg'\n",
              " probs: None\n",
              " save_dir: 'runs/detect/predict'\n",
              " speed: {'preprocess': 2.3918399999729445, 'inference': 13.698734000058721, 'postprocess': 1.8823550000206524},\n",
              " ultralytics.engine.results.Results object with attributes:\n",
              " \n",
              " boxes: ultralytics.engine.results.Boxes object\n",
              " keypoints: None\n",
              " masks: None\n",
              " names: {0: 'calculus', 1: 'haddock', 2: 'snowy', 3: 'thompson', 4: 'tintin'}\n",
              " obb: None\n",
              " orig_img: array([[[250, 255, 254],\n",
              "         [250, 255, 254],\n",
              "         [250, 255, 254],\n",
              "         ...,\n",
              "         [246, 251, 254],\n",
              "         [244, 251, 254],\n",
              "         [243, 250, 253]],\n",
              " \n",
              "        [[250, 255, 254],\n",
              "         [250, 255, 254],\n",
              "         [250, 255, 254],\n",
              "         ...,\n",
              "         [246, 251, 254],\n",
              "         [244, 251, 254],\n",
              "         [243, 250, 253]],\n",
              " \n",
              "        [[250, 255, 254],\n",
              "         [250, 255, 254],\n",
              "         [250, 255, 254],\n",
              "         ...,\n",
              "         [246, 251, 254],\n",
              "         [244, 251, 254],\n",
              "         [243, 250, 253]],\n",
              " \n",
              "        ...,\n",
              " \n",
              "        [[242, 245, 250],\n",
              "         [242, 245, 250],\n",
              "         [242, 245, 250],\n",
              "         ...,\n",
              "         [229, 243, 255],\n",
              "         [233, 246, 254],\n",
              "         [233, 246, 254]],\n",
              " \n",
              "        [[244, 247, 252],\n",
              "         [244, 247, 252],\n",
              "         [244, 247, 252],\n",
              "         ...,\n",
              "         [228, 241, 255],\n",
              "         [233, 246, 254],\n",
              "         [233, 246, 254]],\n",
              " \n",
              "        [[246, 249, 254],\n",
              "         [245, 248, 253],\n",
              "         [245, 248, 253],\n",
              "         ...,\n",
              "         [225, 241, 254],\n",
              "         [233, 245, 255],\n",
              "         [233, 245, 255]]], dtype=uint8)\n",
              " orig_shape: (271, 202)\n",
              " path: '/content/data/validation/images/729fed9b-08_tintin_and_the_king_ottokars_sceptre_page_08_panel_02.jpg'\n",
              " probs: None\n",
              " save_dir: 'runs/detect/predict'\n",
              " speed: {'preprocess': 2.753166000047713, 'inference': 14.375937000068006, 'postprocess': 3.821321000032185},\n",
              " ultralytics.engine.results.Results object with attributes:\n",
              " \n",
              " boxes: ultralytics.engine.results.Boxes object\n",
              " keypoints: None\n",
              " masks: None\n",
              " names: {0: 'calculus', 1: 'haddock', 2: 'snowy', 3: 'thompson', 4: 'tintin'}\n",
              " obb: None\n",
              " orig_img: array([[[240, 252, 252],\n",
              "         [244, 254, 254],\n",
              "         [243, 253, 253],\n",
              "         ...,\n",
              "         [246, 254, 254],\n",
              "         [246, 254, 254],\n",
              "         [246, 254, 254]],\n",
              " \n",
              "        [[241, 250, 253],\n",
              "         [241, 250, 253],\n",
              "         [241, 250, 253],\n",
              "         ...,\n",
              "         [246, 254, 254],\n",
              "         [246, 254, 254],\n",
              "         [246, 254, 254]],\n",
              " \n",
              "        [[245, 252, 255],\n",
              "         [244, 251, 254],\n",
              "         [243, 250, 253],\n",
              "         ...,\n",
              "         [246, 254, 254],\n",
              "         [246, 254, 254],\n",
              "         [246, 254, 254]],\n",
              " \n",
              "        ...,\n",
              " \n",
              "        [[233, 242, 246],\n",
              "         [231, 240, 244],\n",
              "         [232, 241, 245],\n",
              "         ...,\n",
              "         [240, 252, 254],\n",
              "         [240, 252, 254],\n",
              "         [240, 252, 254]],\n",
              " \n",
              "        [[230, 242, 244],\n",
              "         [235, 247, 249],\n",
              "         [230, 242, 244],\n",
              "         ...,\n",
              "         [239, 251, 253],\n",
              "         [240, 252, 254],\n",
              "         [240, 252, 254]],\n",
              " \n",
              "        [[227, 240, 242],\n",
              "         [240, 253, 255],\n",
              "         [229, 242, 244],\n",
              "         ...,\n",
              "         [242, 254, 255],\n",
              "         [244, 255, 255],\n",
              "         [244, 255, 255]]], dtype=uint8)\n",
              " orig_shape: (272, 352)\n",
              " path: '/content/data/validation/images/72e90907-11_tintin_and_the_secret_of_the_unicorn_page_40_panel_13.jpg'\n",
              " probs: None\n",
              " save_dir: 'runs/detect/predict'\n",
              " speed: {'preprocess': 3.046890000064195, 'inference': 79.12949500007471, 'postprocess': 2.344505999985813},\n",
              " ultralytics.engine.results.Results object with attributes:\n",
              " \n",
              " boxes: ultralytics.engine.results.Boxes object\n",
              " keypoints: None\n",
              " masks: None\n",
              " names: {0: 'calculus', 1: 'haddock', 2: 'snowy', 3: 'thompson', 4: 'tintin'}\n",
              " obb: None\n",
              " orig_img: array([[[250, 255, 255],\n",
              "         [249, 254, 255],\n",
              "         [248, 251, 255],\n",
              "         ...,\n",
              "         [241, 238, 247],\n",
              "         [247, 238, 235],\n",
              "         [ 85,  65,  48]],\n",
              " \n",
              "        [[249, 254, 255],\n",
              "         [249, 254, 255],\n",
              "         [248, 251, 255],\n",
              "         ...,\n",
              "         [235, 233, 245],\n",
              "         [247, 238, 241],\n",
              "         [ 91,  71,  60]],\n",
              " \n",
              "        [[249, 254, 255],\n",
              "         [249, 254, 255],\n",
              "         [249, 252, 255],\n",
              "         ...,\n",
              "         [232, 232, 248],\n",
              "         [249, 241, 248],\n",
              "         [ 97,  79,  72]],\n",
              " \n",
              "        ...,\n",
              " \n",
              "        [[230, 241, 245],\n",
              "         [229, 240, 244],\n",
              "         [228, 239, 243],\n",
              "         ...,\n",
              "         [228, 235, 238],\n",
              "         [227, 234, 237],\n",
              "         [227, 234, 237]],\n",
              " \n",
              "        [[231, 242, 246],\n",
              "         [229, 240, 244],\n",
              "         [228, 240, 244],\n",
              "         ...,\n",
              "         [227, 232, 233],\n",
              "         [227, 232, 233],\n",
              "         [228, 233, 234]],\n",
              " \n",
              "        [[233, 244, 248],\n",
              "         [230, 241, 245],\n",
              "         [230, 242, 246],\n",
              "         ...,\n",
              "         [235, 240, 239],\n",
              "         [234, 239, 238],\n",
              "         [234, 239, 238]]], dtype=uint8)\n",
              " orig_shape: (224, 228)\n",
              " path: '/content/data/validation/images/77faf4fb-17_tintin_and_the_explorers_on_the_moon_page_07_panel_03.jpg'\n",
              " probs: None\n",
              " save_dir: 'runs/detect/predict'\n",
              " speed: {'preprocess': 4.876349000028313, 'inference': 17.80237799994211, 'postprocess': 2.6579230000152165},\n",
              " ultralytics.engine.results.Results object with attributes:\n",
              " \n",
              " boxes: ultralytics.engine.results.Boxes object\n",
              " keypoints: None\n",
              " masks: None\n",
              " names: {0: 'calculus', 1: 'haddock', 2: 'snowy', 3: 'thompson', 4: 'tintin'}\n",
              " obb: None\n",
              " orig_img: array([[[187, 193, 206],\n",
              "         [190, 194, 205],\n",
              "         [192, 196, 207],\n",
              "         ...,\n",
              "         [237, 236, 240],\n",
              "         [241, 237, 242],\n",
              "         [245, 241, 246]],\n",
              " \n",
              "        [[187, 193, 206],\n",
              "         [190, 194, 205],\n",
              "         [192, 196, 207],\n",
              "         ...,\n",
              "         [237, 236, 240],\n",
              "         [237, 236, 240],\n",
              "         [240, 236, 241]],\n",
              " \n",
              "        [[187, 193, 206],\n",
              "         [192, 196, 207],\n",
              "         [193, 197, 208],\n",
              "         ...,\n",
              "         [243, 242, 246],\n",
              "         [241, 240, 244],\n",
              "         [239, 238, 242]],\n",
              " \n",
              "        ...,\n",
              " \n",
              "        [[182, 192, 202],\n",
              "         [185, 195, 205],\n",
              "         [189, 198, 208],\n",
              "         ...,\n",
              "         [242, 251, 255],\n",
              "         [242, 250, 255],\n",
              "         [241, 249, 255]],\n",
              " \n",
              "        [[182, 192, 202],\n",
              "         [185, 195, 205],\n",
              "         [189, 198, 208],\n",
              "         ...,\n",
              "         [239, 250, 254],\n",
              "         [240, 251, 255],\n",
              "         [240, 251, 255]],\n",
              " \n",
              "        [[184, 194, 204],\n",
              "         [187, 197, 207],\n",
              "         [190, 199, 209],\n",
              "         ...,\n",
              "         [238, 249, 253],\n",
              "         [239, 250, 254],\n",
              "         [240, 251, 255]]], dtype=uint8)\n",
              " orig_shape: (293, 192)\n",
              " path: '/content/data/validation/images/80a145bb-08_tintin_and_the_king_ottokars_sceptre_page_08_panel_01.jpg'\n",
              " probs: None\n",
              " save_dir: 'runs/detect/predict'\n",
              " speed: {'preprocess': 2.742840999985674, 'inference': 17.068398999981582, 'postprocess': 2.188394999961929},\n",
              " ultralytics.engine.results.Results object with attributes:\n",
              " \n",
              " boxes: ultralytics.engine.results.Boxes object\n",
              " keypoints: None\n",
              " masks: None\n",
              " names: {0: 'calculus', 1: 'haddock', 2: 'snowy', 3: 'thompson', 4: 'tintin'}\n",
              " obb: None\n",
              " orig_img: array([[[243, 255, 255],\n",
              "         [243, 255, 255],\n",
              "         [243, 255, 255],\n",
              "         ...,\n",
              "         [232, 249, 252],\n",
              "         [234, 249, 252],\n",
              "         [234, 249, 252]],\n",
              " \n",
              "        [[243, 255, 255],\n",
              "         [243, 255, 255],\n",
              "         [243, 255, 255],\n",
              "         ...,\n",
              "         [232, 249, 252],\n",
              "         [235, 250, 253],\n",
              "         [234, 249, 252]],\n",
              " \n",
              "        [[243, 255, 255],\n",
              "         [243, 255, 255],\n",
              "         [243, 255, 255],\n",
              "         ...,\n",
              "         [234, 249, 252],\n",
              "         [234, 249, 252],\n",
              "         [234, 249, 252]],\n",
              " \n",
              "        ...,\n",
              " \n",
              "        [[228, 233, 236],\n",
              "         [228, 233, 236],\n",
              "         [227, 232, 235],\n",
              "         ...,\n",
              "         [217, 226, 229],\n",
              "         [216, 225, 228],\n",
              "         [218, 225, 228]],\n",
              " \n",
              "        [[231, 236, 239],\n",
              "         [230, 235, 238],\n",
              "         [230, 235, 238],\n",
              "         ...,\n",
              "         [217, 226, 229],\n",
              "         [216, 225, 228],\n",
              "         [216, 225, 228]],\n",
              " \n",
              "        [[230, 235, 238],\n",
              "         [230, 235, 238],\n",
              "         [230, 235, 238],\n",
              "         ...,\n",
              "         [217, 226, 229],\n",
              "         [216, 225, 228],\n",
              "         [216, 225, 228]]], dtype=uint8)\n",
              " orig_shape: (268, 241)\n",
              " path: '/content/data/validation/images/8583c35e-17_tintin_and_the_explorers_on_the_moon_page_09_panel_06.jpg'\n",
              " probs: None\n",
              " save_dir: 'runs/detect/predict'\n",
              " speed: {'preprocess': 3.292420999969181, 'inference': 17.45136800002456, 'postprocess': 2.337076000003435},\n",
              " ultralytics.engine.results.Results object with attributes:\n",
              " \n",
              " boxes: ultralytics.engine.results.Boxes object\n",
              " keypoints: None\n",
              " masks: None\n",
              " names: {0: 'calculus', 1: 'haddock', 2: 'snowy', 3: 'thompson', 4: 'tintin'}\n",
              " obb: None\n",
              " orig_img: array([[[221, 224, 228],\n",
              "         [220, 223, 227],\n",
              "         [220, 223, 227],\n",
              "         ...,\n",
              "         [199, 202, 206],\n",
              "         [198, 201, 205],\n",
              "         [197, 200, 204]],\n",
              " \n",
              "        [[221, 224, 228],\n",
              "         [221, 224, 228],\n",
              "         [221, 224, 228],\n",
              "         ...,\n",
              "         [195, 198, 202],\n",
              "         [194, 197, 201],\n",
              "         [194, 197, 201]],\n",
              " \n",
              "        [[222, 225, 229],\n",
              "         [222, 225, 229],\n",
              "         [222, 225, 229],\n",
              "         ...,\n",
              "         [194, 197, 201],\n",
              "         [193, 196, 200],\n",
              "         [193, 196, 200]],\n",
              " \n",
              "        ...,\n",
              " \n",
              "        [[245, 252, 255],\n",
              "         [245, 252, 255],\n",
              "         [245, 252, 255],\n",
              "         ...,\n",
              "         [200, 206, 211],\n",
              "         [202, 208, 213],\n",
              "         [203, 209, 214]],\n",
              " \n",
              "        [[243, 250, 253],\n",
              "         [243, 250, 253],\n",
              "         [243, 250, 253],\n",
              "         ...,\n",
              "         [201, 207, 212],\n",
              "         [203, 209, 214],\n",
              "         [203, 209, 214]],\n",
              " \n",
              "        [[242, 248, 253],\n",
              "         [242, 248, 253],\n",
              "         [241, 247, 252],\n",
              "         ...,\n",
              "         [204, 210, 215],\n",
              "         [203, 209, 214],\n",
              "         [203, 209, 214]]], dtype=uint8)\n",
              " orig_shape: (270, 389)\n",
              " path: '/content/data/validation/images/99ac7670-17_tintin_and_the_explorers_on_the_moon_page_03_panel_13.jpg'\n",
              " probs: None\n",
              " save_dir: 'runs/detect/predict'\n",
              " speed: {'preprocess': 2.720626000041193, 'inference': 73.14010100003543, 'postprocess': 1.478743999996368},\n",
              " ultralytics.engine.results.Results object with attributes:\n",
              " \n",
              " boxes: ultralytics.engine.results.Boxes object\n",
              " keypoints: None\n",
              " masks: None\n",
              " names: {0: 'calculus', 1: 'haddock', 2: 'snowy', 3: 'thompson', 4: 'tintin'}\n",
              " obb: None\n",
              " orig_img: array([[[103, 123, 118],\n",
              "         [149, 156, 153],\n",
              "         [226, 232, 231],\n",
              "         ...,\n",
              "         [236, 243, 240],\n",
              "         [ 90,  89,  98],\n",
              "         [103, 189, 207]],\n",
              " \n",
              "        [[100, 122, 117],\n",
              "         [142, 151, 148],\n",
              "         [226, 232, 231],\n",
              "         ...,\n",
              "         [235, 246, 243],\n",
              "         [ 96,  95, 104],\n",
              "         [111, 190, 209]],\n",
              " \n",
              "        [[ 98, 120, 115],\n",
              "         [137, 148, 145],\n",
              "         [232, 238, 237],\n",
              "         ...,\n",
              "         [241, 248, 245],\n",
              "         [ 93,  99, 106],\n",
              "         [102, 187, 203]],\n",
              " \n",
              "        ...,\n",
              " \n",
              "        [[234, 248, 254],\n",
              "         [234, 248, 254],\n",
              "         [233, 248, 251],\n",
              "         ...,\n",
              "         [235, 247, 251],\n",
              "         [235, 247, 251],\n",
              "         [235, 247, 251]],\n",
              " \n",
              "        [[233, 247, 253],\n",
              "         [232, 246, 252],\n",
              "         [232, 247, 250],\n",
              "         ...,\n",
              "         [234, 246, 250],\n",
              "         [235, 247, 251],\n",
              "         [236, 248, 252]],\n",
              " \n",
              "        [[232, 246, 252],\n",
              "         [232, 246, 252],\n",
              "         [232, 247, 250],\n",
              "         ...,\n",
              "         [234, 246, 250],\n",
              "         [235, 247, 251],\n",
              "         [237, 249, 253]]], dtype=uint8)\n",
              " orig_shape: (179, 257)\n",
              " path: '/content/data/validation/images/9fb3576f-19_tintin_and_the_red_sea_shar_page_27_panel_14.jpg'\n",
              " probs: None\n",
              " save_dir: 'runs/detect/predict'\n",
              " speed: {'preprocess': 2.5936150000234193, 'inference': 12.157419000004666, 'postprocess': 0.6670269999631273},\n",
              " ultralytics.engine.results.Results object with attributes:\n",
              " \n",
              " boxes: ultralytics.engine.results.Boxes object\n",
              " keypoints: None\n",
              " masks: None\n",
              " names: {0: 'calculus', 1: 'haddock', 2: 'snowy', 3: 'thompson', 4: 'tintin'}\n",
              " obb: None\n",
              " orig_img: array([[[226, 228, 228],\n",
              "         [226, 228, 228],\n",
              "         [226, 228, 228],\n",
              "         ...,\n",
              "         [211, 216, 219],\n",
              "         [197, 202, 205],\n",
              "         [190, 195, 198]],\n",
              " \n",
              "        [[230, 232, 232],\n",
              "         [229, 231, 231],\n",
              "         [228, 230, 230],\n",
              "         ...,\n",
              "         [212, 217, 220],\n",
              "         [197, 202, 205],\n",
              "         [190, 195, 198]],\n",
              " \n",
              "        [[232, 234, 234],\n",
              "         [230, 232, 232],\n",
              "         [228, 230, 230],\n",
              "         ...,\n",
              "         [211, 216, 219],\n",
              "         [196, 201, 204],\n",
              "         [189, 194, 197]],\n",
              " \n",
              "        ...,\n",
              " \n",
              "        [[238, 244, 249],\n",
              "         [238, 244, 249],\n",
              "         [238, 244, 249],\n",
              "         ...,\n",
              "         [184, 197, 205],\n",
              "         [194, 207, 215],\n",
              "         [193, 206, 214]],\n",
              " \n",
              "        [[237, 245, 252],\n",
              "         [239, 245, 252],\n",
              "         [238, 244, 251],\n",
              "         ...,\n",
              "         [187, 200, 208],\n",
              "         [197, 210, 218],\n",
              "         [195, 208, 216]],\n",
              " \n",
              "        [[241, 247, 252],\n",
              "         [240, 246, 251],\n",
              "         [239, 245, 250],\n",
              "         ...,\n",
              "         [190, 203, 211],\n",
              "         [197, 210, 218],\n",
              "         [195, 208, 216]]], dtype=uint8)\n",
              " orig_shape: (281, 348)\n",
              " path: '/content/data/validation/images/acbb0c74-17_tintin_and_the_explorers_on_the_moon_page_05_panel_12.jpg'\n",
              " probs: None\n",
              " save_dir: 'runs/detect/predict'\n",
              " speed: {'preprocess': 2.057992999993985, 'inference': 15.491867999912756, 'postprocess': 1.4595110000072964},\n",
              " ultralytics.engine.results.Results object with attributes:\n",
              " \n",
              " boxes: ultralytics.engine.results.Boxes object\n",
              " keypoints: None\n",
              " masks: None\n",
              " names: {0: 'calculus', 1: 'haddock', 2: 'snowy', 3: 'thompson', 4: 'tintin'}\n",
              " obb: None\n",
              " orig_img: array([[[242, 249, 252],\n",
              "         [241, 248, 251],\n",
              "         [242, 249, 252],\n",
              "         ...,\n",
              "         [240, 255, 251],\n",
              "         [240, 255, 251],\n",
              "         [240, 255, 251]],\n",
              " \n",
              "        [[242, 249, 252],\n",
              "         [242, 249, 252],\n",
              "         [242, 248, 253],\n",
              "         ...,\n",
              "         [249, 254, 253],\n",
              "         [249, 254, 253],\n",
              "         [249, 254, 253]],\n",
              " \n",
              "        [[242, 248, 253],\n",
              "         [242, 248, 253],\n",
              "         [242, 248, 253],\n",
              "         ...,\n",
              "         [253, 252, 254],\n",
              "         [253, 252, 254],\n",
              "         [253, 252, 254]],\n",
              " \n",
              "        ...,\n",
              " \n",
              "        [[240, 249, 252],\n",
              "         [240, 249, 252],\n",
              "         [240, 249, 252],\n",
              "         ...,\n",
              "         [244, 254, 254],\n",
              "         [244, 254, 254],\n",
              "         [244, 254, 254]],\n",
              " \n",
              "        [[239, 248, 251],\n",
              "         [239, 248, 251],\n",
              "         [239, 248, 251],\n",
              "         ...,\n",
              "         [244, 253, 255],\n",
              "         [244, 253, 255],\n",
              "         [244, 253, 255]],\n",
              " \n",
              "        [[238, 247, 250],\n",
              "         [238, 247, 250],\n",
              "         [238, 247, 250],\n",
              "         ...,\n",
              "         [242, 251, 254],\n",
              "         [242, 251, 254],\n",
              "         [242, 251, 254]]], dtype=uint8)\n",
              " orig_shape: (275, 316)\n",
              " path: '/content/data/validation/images/ad962dd7-09_tintin_and_the_crabs_with_the_golden_claws_page_17_panel_09.jpg'\n",
              " probs: None\n",
              " save_dir: 'runs/detect/predict'\n",
              " speed: {'preprocess': 2.197491999936574, 'inference': 51.27308299995548, 'postprocess': 1.582306000045719},\n",
              " ultralytics.engine.results.Results object with attributes:\n",
              " \n",
              " boxes: ultralytics.engine.results.Boxes object\n",
              " keypoints: None\n",
              " masks: None\n",
              " names: {0: 'calculus', 1: 'haddock', 2: 'snowy', 3: 'thompson', 4: 'tintin'}\n",
              " obb: None\n",
              " orig_img: array([[[243, 255, 255],\n",
              "         [243, 255, 255],\n",
              "         [243, 255, 255],\n",
              "         ...,\n",
              "         [240, 252, 254],\n",
              "         [240, 252, 254],\n",
              "         [241, 253, 255]],\n",
              " \n",
              "        [[241, 253, 253],\n",
              "         [242, 254, 254],\n",
              "         [243, 255, 255],\n",
              "         ...,\n",
              "         [241, 253, 255],\n",
              "         [241, 253, 255],\n",
              "         [242, 254, 255]],\n",
              " \n",
              "        [[241, 253, 253],\n",
              "         [242, 254, 254],\n",
              "         [242, 254, 254],\n",
              "         ...,\n",
              "         [241, 253, 255],\n",
              "         [241, 253, 255],\n",
              "         [242, 254, 255]],\n",
              " \n",
              "        ...,\n",
              " \n",
              "        [[237, 249, 253],\n",
              "         [237, 249, 253],\n",
              "         [238, 250, 254],\n",
              "         ...,\n",
              "         [243, 250, 253],\n",
              "         [244, 251, 254],\n",
              "         [244, 251, 254]],\n",
              " \n",
              "        [[237, 249, 253],\n",
              "         [237, 249, 253],\n",
              "         [238, 250, 254],\n",
              "         ...,\n",
              "         [243, 250, 253],\n",
              "         [244, 251, 254],\n",
              "         [245, 252, 255]],\n",
              " \n",
              "        [[237, 249, 253],\n",
              "         [237, 249, 253],\n",
              "         [238, 250, 254],\n",
              "         ...,\n",
              "         [244, 251, 254],\n",
              "         [245, 252, 255],\n",
              "         [245, 252, 255]]], dtype=uint8)\n",
              " orig_shape: (267, 214)\n",
              " path: '/content/data/validation/images/af7dab61-15_tintin_and_the_land_of_black_gold_page_09_panel_03.jpg'\n",
              " probs: None\n",
              " save_dir: 'runs/detect/predict'\n",
              " speed: {'preprocess': 2.3411760000726645, 'inference': 48.35415299999113, 'postprocess': 1.4686629999687284},\n",
              " ultralytics.engine.results.Results object with attributes:\n",
              " \n",
              " boxes: ultralytics.engine.results.Boxes object\n",
              " keypoints: None\n",
              " masks: None\n",
              " names: {0: 'calculus', 1: 'haddock', 2: 'snowy', 3: 'thompson', 4: 'tintin'}\n",
              " obb: None\n",
              " orig_img: array([[[236, 247, 251],\n",
              "         [236, 247, 251],\n",
              "         [235, 246, 250],\n",
              "         ...,\n",
              "         [199, 211, 215],\n",
              "         [199, 211, 215],\n",
              "         [200, 212, 216]],\n",
              " \n",
              "        [[235, 246, 250],\n",
              "         [235, 246, 250],\n",
              "         [234, 245, 249],\n",
              "         ...,\n",
              "         [199, 211, 215],\n",
              "         [199, 211, 215],\n",
              "         [200, 212, 216]],\n",
              " \n",
              "        [[234, 245, 249],\n",
              "         [233, 244, 248],\n",
              "         [233, 244, 248],\n",
              "         ...,\n",
              "         [199, 211, 215],\n",
              "         [200, 212, 216],\n",
              "         [200, 212, 216]],\n",
              " \n",
              "        ...,\n",
              " \n",
              "        [[235, 242, 245],\n",
              "         [235, 242, 245],\n",
              "         [236, 243, 246],\n",
              "         ...,\n",
              "         [200, 211, 215],\n",
              "         [200, 211, 215],\n",
              "         [199, 210, 214]],\n",
              " \n",
              "        [[241, 246, 247],\n",
              "         [241, 246, 247],\n",
              "         [240, 244, 245],\n",
              "         ...,\n",
              "         [198, 209, 213],\n",
              "         [197, 208, 212],\n",
              "         [196, 207, 211]],\n",
              " \n",
              "        [[233, 241, 241],\n",
              "         [233, 241, 241],\n",
              "         [239, 247, 247],\n",
              "         ...,\n",
              "         [192, 203, 207],\n",
              "         [191, 202, 206],\n",
              "         [192, 203, 207]]], dtype=uint8)\n",
              " orig_shape: (274, 321)\n",
              " path: '/content/data/validation/images/b3c4e33a-15_tintin_and_the_land_of_black_gold_page_09_panel_08.jpg'\n",
              " probs: None\n",
              " save_dir: 'runs/detect/predict'\n",
              " speed: {'preprocess': 2.851615000054153, 'inference': 15.788136999958624, 'postprocess': 1.3546429998996246},\n",
              " ultralytics.engine.results.Results object with attributes:\n",
              " \n",
              " boxes: ultralytics.engine.results.Boxes object\n",
              " keypoints: None\n",
              " masks: None\n",
              " names: {0: 'calculus', 1: 'haddock', 2: 'snowy', 3: 'thompson', 4: 'tintin'}\n",
              " obb: None\n",
              " orig_img: array([[[239, 244, 245],\n",
              "         [240, 245, 246],\n",
              "         [237, 242, 243],\n",
              "         ...,\n",
              "         [225, 229, 230],\n",
              "         [226, 230, 231],\n",
              "         [227, 231, 232]],\n",
              " \n",
              "        [[240, 244, 245],\n",
              "         [242, 246, 247],\n",
              "         [240, 245, 246],\n",
              "         ...,\n",
              "         [229, 233, 234],\n",
              "         [229, 233, 234],\n",
              "         [230, 234, 235]],\n",
              " \n",
              "        [[239, 243, 244],\n",
              "         [242, 246, 247],\n",
              "         [243, 247, 248],\n",
              "         ...,\n",
              "         [230, 234, 235],\n",
              "         [230, 234, 235],\n",
              "         [231, 235, 236]],\n",
              " \n",
              "        ...,\n",
              " \n",
              "        [[230, 235, 236],\n",
              "         [231, 236, 237],\n",
              "         [231, 236, 237],\n",
              "         ...,\n",
              "         [218, 223, 222],\n",
              "         [218, 222, 223],\n",
              "         [218, 222, 223]],\n",
              " \n",
              "        [[229, 234, 235],\n",
              "         [229, 234, 235],\n",
              "         [230, 235, 236],\n",
              "         ...,\n",
              "         [217, 222, 221],\n",
              "         [216, 220, 221],\n",
              "         [216, 220, 221]],\n",
              " \n",
              "        [[228, 233, 234],\n",
              "         [228, 233, 234],\n",
              "         [229, 234, 235],\n",
              "         ...,\n",
              "         [216, 221, 220],\n",
              "         [215, 219, 220],\n",
              "         [214, 218, 219]]], dtype=uint8)\n",
              " orig_shape: (207, 188)\n",
              " path: '/content/data/validation/images/b45bf2dc-17_tintin_and_the_explorers_on_the_moon_page_18_panel_01.jpg'\n",
              " probs: None\n",
              " save_dir: 'runs/detect/predict'\n",
              " speed: {'preprocess': 2.5010489999885976, 'inference': 16.11548899995796, 'postprocess': 0.6553229999326504},\n",
              " ultralytics.engine.results.Results object with attributes:\n",
              " \n",
              " boxes: ultralytics.engine.results.Boxes object\n",
              " keypoints: None\n",
              " masks: None\n",
              " names: {0: 'calculus', 1: 'haddock', 2: 'snowy', 3: 'thompson', 4: 'tintin'}\n",
              " obb: None\n",
              " orig_img: array([[[247, 255, 254],\n",
              "         [247, 255, 254],\n",
              "         [247, 255, 254],\n",
              "         ...,\n",
              "         [250, 255, 255],\n",
              "         [250, 255, 255],\n",
              "         [250, 255, 255]],\n",
              " \n",
              "        [[247, 255, 255],\n",
              "         [247, 255, 255],\n",
              "         [247, 255, 255],\n",
              "         ...,\n",
              "         [249, 255, 254],\n",
              "         [249, 255, 254],\n",
              "         [249, 255, 254]],\n",
              " \n",
              "        [[247, 255, 255],\n",
              "         [247, 255, 255],\n",
              "         [247, 255, 255],\n",
              "         ...,\n",
              "         [250, 255, 254],\n",
              "         [250, 255, 254],\n",
              "         [250, 255, 254]],\n",
              " \n",
              "        ...,\n",
              " \n",
              "        [[234, 246, 250],\n",
              "         [235, 248, 250],\n",
              "         [235, 248, 250],\n",
              "         ...,\n",
              "         [247, 255, 255],\n",
              "         [247, 255, 255],\n",
              "         [247, 255, 255]],\n",
              " \n",
              "        [[235, 247, 251],\n",
              "         [235, 248, 250],\n",
              "         [236, 249, 251],\n",
              "         ...,\n",
              "         [249, 254, 255],\n",
              "         [249, 254, 255],\n",
              "         [247, 255, 255]],\n",
              " \n",
              "        [[235, 247, 251],\n",
              "         [236, 248, 252],\n",
              "         [237, 250, 252],\n",
              "         ...,\n",
              "         [249, 254, 255],\n",
              "         [249, 254, 255],\n",
              "         [247, 255, 255]]], dtype=uint8)\n",
              " orig_shape: (271, 199)\n",
              " path: '/content/data/validation/images/b4d017d0-09_tintin_and_the_crabs_with_the_golden_claws_page_26_panel_08.jpg'\n",
              " probs: None\n",
              " save_dir: 'runs/detect/predict'\n",
              " speed: {'preprocess': 2.1156210000299325, 'inference': 13.113401000055092, 'postprocess': 1.4048540000430876},\n",
              " ultralytics.engine.results.Results object with attributes:\n",
              " \n",
              " boxes: ultralytics.engine.results.Boxes object\n",
              " keypoints: None\n",
              " masks: None\n",
              " names: {0: 'calculus', 1: 'haddock', 2: 'snowy', 3: 'thompson', 4: 'tintin'}\n",
              " obb: None\n",
              " orig_img: array([[[233, 240, 243],\n",
              "         [230, 237, 240],\n",
              "         [228, 235, 238],\n",
              "         ...,\n",
              "         [167, 131,  85],\n",
              "         [167, 133,  90],\n",
              "         [171, 135,  89]],\n",
              " \n",
              "        [[232, 239, 242],\n",
              "         [230, 237, 240],\n",
              "         [232, 239, 242],\n",
              "         ...,\n",
              "         [165, 126,  81],\n",
              "         [164, 126,  84],\n",
              "         [170, 133,  89]],\n",
              " \n",
              "        [[234, 241, 244],\n",
              "         [228, 235, 238],\n",
              "         [225, 232, 235],\n",
              "         ...,\n",
              "         [168, 126,  83],\n",
              "         [172, 129,  86],\n",
              "         [165, 127,  85]],\n",
              " \n",
              "        ...,\n",
              " \n",
              "        [[247, 255, 255],\n",
              "         [247, 255, 255],\n",
              "         [247, 255, 255],\n",
              "         ...,\n",
              "         [204, 216, 220],\n",
              "         [204, 216, 220],\n",
              "         [203, 215, 219]],\n",
              " \n",
              "        [[248, 255, 255],\n",
              "         [247, 255, 255],\n",
              "         [247, 255, 255],\n",
              "         ...,\n",
              "         [204, 216, 220],\n",
              "         [205, 217, 221],\n",
              "         [204, 216, 220]],\n",
              " \n",
              "        [[247, 255, 255],\n",
              "         [247, 255, 255],\n",
              "         [247, 255, 255],\n",
              "         ...,\n",
              "         [205, 217, 221],\n",
              "         [205, 217, 221],\n",
              "         [204, 216, 220]]], dtype=uint8)\n",
              " orig_shape: (289, 409)\n",
              " path: '/content/data/validation/images/c0521b43-04_tintin_and_the_cigars_of_the_pharaoh_page_13_panel_12.jpg'\n",
              " probs: None\n",
              " save_dir: 'runs/detect/predict'\n",
              " speed: {'preprocess': 1.8742419999853155, 'inference': 48.71880499990766, 'postprocess': 1.406923999979881},\n",
              " ultralytics.engine.results.Results object with attributes:\n",
              " \n",
              " boxes: ultralytics.engine.results.Boxes object\n",
              " keypoints: None\n",
              " masks: None\n",
              " names: {0: 'calculus', 1: 'haddock', 2: 'snowy', 3: 'thompson', 4: 'tintin'}\n",
              " obb: None\n",
              " orig_img: array([[[255, 255, 255],\n",
              "         [255, 255, 255],\n",
              "         [255, 255, 255],\n",
              "         ...,\n",
              "         [250, 255, 254],\n",
              "         [250, 255, 254],\n",
              "         [250, 255, 254]],\n",
              " \n",
              "        [[255, 255, 255],\n",
              "         [255, 255, 255],\n",
              "         [255, 255, 255],\n",
              "         ...,\n",
              "         [250, 255, 254],\n",
              "         [250, 255, 254],\n",
              "         [250, 255, 254]],\n",
              " \n",
              "        [[255, 255, 255],\n",
              "         [255, 255, 255],\n",
              "         [255, 255, 255],\n",
              "         ...,\n",
              "         [250, 255, 254],\n",
              "         [250, 255, 254],\n",
              "         [250, 255, 254]],\n",
              " \n",
              "        ...,\n",
              " \n",
              "        [[234, 239, 242],\n",
              "         [235, 240, 243],\n",
              "         [235, 240, 243],\n",
              "         ...,\n",
              "         [241, 250, 253],\n",
              "         [241, 250, 253],\n",
              "         [241, 250, 253]],\n",
              " \n",
              "        [[235, 240, 243],\n",
              "         [235, 240, 243],\n",
              "         [235, 240, 243],\n",
              "         ...,\n",
              "         [241, 250, 253],\n",
              "         [241, 250, 253],\n",
              "         [241, 250, 253]],\n",
              " \n",
              "        [[235, 240, 243],\n",
              "         [235, 240, 243],\n",
              "         [235, 240, 243],\n",
              "         ...,\n",
              "         [241, 250, 253],\n",
              "         [241, 250, 253],\n",
              "         [241, 250, 253]]], dtype=uint8)\n",
              " orig_shape: (272, 373)\n",
              " path: '/content/data/validation/images/c87ef29e-17_tintin_and_the_explorers_on_the_moon_page_12_panel_10.jpg'\n",
              " probs: None\n",
              " save_dir: 'runs/detect/predict'\n",
              " speed: {'preprocess': 1.9733560000076977, 'inference': 12.410801000100946, 'postprocess': 0.7425600000487975},\n",
              " ultralytics.engine.results.Results object with attributes:\n",
              " \n",
              " boxes: ultralytics.engine.results.Boxes object\n",
              " keypoints: None\n",
              " masks: None\n",
              " names: {0: 'calculus', 1: 'haddock', 2: 'snowy', 3: 'thompson', 4: 'tintin'}\n",
              " obb: None\n",
              " orig_img: array([[[246, 250, 255],\n",
              "         [247, 252, 255],\n",
              "         [249, 254, 255],\n",
              "         ...,\n",
              "         [181, 184, 188],\n",
              "         [181, 184, 188],\n",
              "         [181, 184, 188]],\n",
              " \n",
              "        [[247, 251, 255],\n",
              "         [247, 252, 255],\n",
              "         [248, 253, 255],\n",
              "         ...,\n",
              "         [181, 184, 188],\n",
              "         [181, 184, 188],\n",
              "         [181, 184, 188]],\n",
              " \n",
              "        [[245, 251, 255],\n",
              "         [245, 252, 255],\n",
              "         [245, 252, 255],\n",
              "         ...,\n",
              "         [181, 184, 188],\n",
              "         [181, 184, 188],\n",
              "         [181, 184, 188]],\n",
              " \n",
              "        ...,\n",
              " \n",
              "        [[240, 251, 255],\n",
              "         [240, 251, 255],\n",
              "         [239, 250, 254],\n",
              "         ...,\n",
              "         [181, 185, 190],\n",
              "         [182, 186, 191],\n",
              "         [182, 186, 191]],\n",
              " \n",
              "        [[240, 251, 255],\n",
              "         [240, 251, 255],\n",
              "         [239, 250, 254],\n",
              "         ...,\n",
              "         [182, 186, 191],\n",
              "         [182, 186, 191],\n",
              "         [182, 186, 191]],\n",
              " \n",
              "        [[240, 251, 255],\n",
              "         [240, 251, 255],\n",
              "         [239, 250, 254],\n",
              "         ...,\n",
              "         [181, 185, 190],\n",
              "         [181, 185, 190],\n",
              "         [181, 185, 190]]], dtype=uint8)\n",
              " orig_shape: (246, 798)\n",
              " path: '/content/data/validation/images/c9d18975-17_tintin_and_the_explorers_on_the_moon_page_15_panel_06.jpg'\n",
              " probs: None\n",
              " save_dir: 'runs/detect/predict'\n",
              " speed: {'preprocess': 1.5668539999751374, 'inference': 49.109244000078434, 'postprocess': 0.7236720000491914},\n",
              " ultralytics.engine.results.Results object with attributes:\n",
              " \n",
              " boxes: ultralytics.engine.results.Boxes object\n",
              " keypoints: None\n",
              " masks: None\n",
              " names: {0: 'calculus', 1: 'haddock', 2: 'snowy', 3: 'thompson', 4: 'tintin'}\n",
              " obb: None\n",
              " orig_img: array([[[170, 192, 203],\n",
              "         [179, 204, 214],\n",
              "         [187, 214, 224],\n",
              "         ...,\n",
              "         [246, 254, 254],\n",
              "         [247, 255, 255],\n",
              "         [247, 255, 255]],\n",
              " \n",
              "        [[169, 191, 202],\n",
              "         [178, 203, 213],\n",
              "         [186, 213, 223],\n",
              "         ...,\n",
              "         [245, 253, 253],\n",
              "         [246, 254, 254],\n",
              "         [246, 254, 254]],\n",
              " \n",
              "        [[169, 191, 202],\n",
              "         [177, 202, 212],\n",
              "         [185, 212, 222],\n",
              "         ...,\n",
              "         [246, 254, 254],\n",
              "         [246, 254, 254],\n",
              "         [246, 254, 254]],\n",
              " \n",
              "        ...,\n",
              " \n",
              "        [[166, 178, 188],\n",
              "         [153, 169, 181],\n",
              "         [167, 183, 196],\n",
              "         ...,\n",
              "         [242, 246, 247],\n",
              "         [241, 245, 246],\n",
              "         [241, 245, 246]],\n",
              " \n",
              "        [[166, 178, 188],\n",
              "         [153, 169, 181],\n",
              "         [167, 183, 196],\n",
              "         ...,\n",
              "         [240, 244, 245],\n",
              "         [238, 242, 243],\n",
              "         [237, 241, 242]],\n",
              " \n",
              "        [[162, 181, 189],\n",
              "         [158, 176, 187],\n",
              "         [166, 183, 196],\n",
              "         ...,\n",
              "         [240, 244, 245],\n",
              "         [237, 241, 242],\n",
              "         [236, 240, 241]]], dtype=uint8)\n",
              " orig_shape: (209, 181)\n",
              " path: '/content/data/validation/images/cef99604-17_tintin_and_the_explorers_on_the_moon_page_06_panel_01.jpg'\n",
              " probs: None\n",
              " save_dir: 'runs/detect/predict'\n",
              " speed: {'preprocess': 2.8958960000409206, 'inference': 15.730471000097168, 'postprocess': 0.6716279999636754},\n",
              " ultralytics.engine.results.Results object with attributes:\n",
              " \n",
              " boxes: ultralytics.engine.results.Boxes object\n",
              " keypoints: None\n",
              " masks: None\n",
              " names: {0: 'calculus', 1: 'haddock', 2: 'snowy', 3: 'thompson', 4: 'tintin'}\n",
              " obb: None\n",
              " orig_img: array([[[241, 245, 246],\n",
              "         [241, 245, 246],\n",
              "         [240, 244, 245],\n",
              "         ...,\n",
              "         [229, 233, 234],\n",
              "         [229, 233, 234],\n",
              "         [229, 233, 234]],\n",
              " \n",
              "        [[243, 247, 248],\n",
              "         [243, 247, 248],\n",
              "         [242, 246, 247],\n",
              "         ...,\n",
              "         [227, 232, 235],\n",
              "         [227, 232, 235],\n",
              "         [227, 232, 235]],\n",
              " \n",
              "        [[244, 248, 249],\n",
              "         [244, 248, 249],\n",
              "         [244, 248, 249],\n",
              "         ...,\n",
              "         [233, 239, 244],\n",
              "         [233, 239, 244],\n",
              "         [232, 238, 243]],\n",
              " \n",
              "        ...,\n",
              " \n",
              "        [[223, 228, 231],\n",
              "         [226, 231, 234],\n",
              "         [226, 231, 234],\n",
              "         ...,\n",
              "         [218, 223, 224],\n",
              "         [218, 223, 224],\n",
              "         [218, 223, 224]],\n",
              " \n",
              "        [[224, 229, 232],\n",
              "         [227, 232, 235],\n",
              "         [227, 232, 235],\n",
              "         ...,\n",
              "         [218, 223, 224],\n",
              "         [218, 223, 224],\n",
              "         [218, 223, 224]],\n",
              " \n",
              "        [[225, 230, 233],\n",
              "         [228, 233, 236],\n",
              "         [227, 232, 235],\n",
              "         ...,\n",
              "         [218, 223, 224],\n",
              "         [218, 223, 224],\n",
              "         [218, 223, 224]]], dtype=uint8)\n",
              " orig_shape: (243, 227)\n",
              " path: '/content/data/validation/images/d1997917-17_tintin_and_the_explorers_on_the_moon_page_05_panel_01.jpg'\n",
              " probs: None\n",
              " save_dir: 'runs/detect/predict'\n",
              " speed: {'preprocess': 2.426033999995525, 'inference': 15.916133000018817, 'postprocess': 1.7248000000336106},\n",
              " ultralytics.engine.results.Results object with attributes:\n",
              " \n",
              " boxes: ultralytics.engine.results.Boxes object\n",
              " keypoints: None\n",
              " masks: None\n",
              " names: {0: 'calculus', 1: 'haddock', 2: 'snowy', 3: 'thompson', 4: 'tintin'}\n",
              " obb: None\n",
              " orig_img: array([[[212, 216, 221],\n",
              "         [216, 220, 225],\n",
              "         [217, 221, 226],\n",
              "         ...,\n",
              "         [241, 250, 254],\n",
              "         [241, 250, 254],\n",
              "         [241, 250, 254]],\n",
              " \n",
              "        [[207, 211, 216],\n",
              "         [218, 222, 227],\n",
              "         [224, 228, 233],\n",
              "         ...,\n",
              "         [241, 250, 254],\n",
              "         [242, 251, 255],\n",
              "         [242, 251, 255]],\n",
              " \n",
              "        [[211, 215, 220],\n",
              "         [214, 218, 223],\n",
              "         [216, 220, 225],\n",
              "         ...,\n",
              "         [237, 246, 250],\n",
              "         [237, 246, 250],\n",
              "         [237, 246, 250]],\n",
              " \n",
              "        ...,\n",
              " \n",
              "        [[216, 220, 225],\n",
              "         [217, 221, 226],\n",
              "         [220, 224, 229],\n",
              "         ...,\n",
              "         [225, 238, 246],\n",
              "         [225, 238, 246],\n",
              "         [225, 238, 246]],\n",
              " \n",
              "        [[216, 220, 225],\n",
              "         [217, 221, 226],\n",
              "         [220, 224, 229],\n",
              "         ...,\n",
              "         [222, 235, 243],\n",
              "         [223, 236, 244],\n",
              "         [224, 237, 245]],\n",
              " \n",
              "        [[216, 220, 225],\n",
              "         [217, 221, 226],\n",
              "         [220, 224, 229],\n",
              "         ...,\n",
              "         [221, 234, 242],\n",
              "         [222, 235, 243],\n",
              "         [224, 237, 245]]], dtype=uint8)\n",
              " orig_shape: (334, 797)\n",
              " path: '/content/data/validation/images/d4943ecd-17_tintin_and_the_explorers_on_the_moon_page_02_panel_03.jpg'\n",
              " probs: None\n",
              " save_dir: 'runs/detect/predict'\n",
              " speed: {'preprocess': 1.7293049999125287, 'inference': 47.844614000041474, 'postprocess': 0.663131000010253},\n",
              " ultralytics.engine.results.Results object with attributes:\n",
              " \n",
              " boxes: ultralytics.engine.results.Boxes object\n",
              " keypoints: None\n",
              " masks: None\n",
              " names: {0: 'calculus', 1: 'haddock', 2: 'snowy', 3: 'thompson', 4: 'tintin'}\n",
              " obb: None\n",
              " orig_img: array([[[210, 218, 218],\n",
              "         [211, 219, 219],\n",
              "         [210, 218, 218],\n",
              "         ...,\n",
              "         [199, 203, 208],\n",
              "         [188, 192, 197],\n",
              "         [181, 185, 190]],\n",
              " \n",
              "        [[215, 223, 223],\n",
              "         [214, 222, 222],\n",
              "         [215, 223, 223],\n",
              "         ...,\n",
              "         [200, 204, 209],\n",
              "         [188, 192, 197],\n",
              "         [182, 186, 191]],\n",
              " \n",
              "        [[215, 223, 223],\n",
              "         [213, 221, 221],\n",
              "         [217, 225, 225],\n",
              "         ...,\n",
              "         [199, 203, 208],\n",
              "         [189, 193, 198],\n",
              "         [183, 187, 192]],\n",
              " \n",
              "        ...,\n",
              " \n",
              "        [[207, 212, 215],\n",
              "         [209, 214, 217],\n",
              "         [210, 215, 218],\n",
              "         ...,\n",
              "         [178, 182, 187],\n",
              "         [180, 184, 189],\n",
              "         [187, 191, 196]],\n",
              " \n",
              "        [[207, 212, 215],\n",
              "         [208, 213, 216],\n",
              "         [209, 214, 217],\n",
              "         ...,\n",
              "         [177, 181, 186],\n",
              "         [180, 184, 189],\n",
              "         [187, 191, 196]],\n",
              " \n",
              "        [[216, 221, 224],\n",
              "         [217, 222, 225],\n",
              "         [217, 222, 225],\n",
              "         ...,\n",
              "         [179, 183, 188],\n",
              "         [180, 184, 189],\n",
              "         [187, 191, 196]]], dtype=uint8)\n",
              " orig_shape: (251, 194)\n",
              " path: '/content/data/validation/images/d5ce93dd-17_tintin_and_the_explorers_on_the_moon_page_17_panel_02.jpg'\n",
              " probs: None\n",
              " save_dir: 'runs/detect/predict'\n",
              " speed: {'preprocess': 2.942534999988311, 'inference': 12.994272000014462, 'postprocess': 1.4357920000520608},\n",
              " ultralytics.engine.results.Results object with attributes:\n",
              " \n",
              " boxes: ultralytics.engine.results.Boxes object\n",
              " keypoints: None\n",
              " masks: None\n",
              " names: {0: 'calculus', 1: 'haddock', 2: 'snowy', 3: 'thompson', 4: 'tintin'}\n",
              " obb: None\n",
              " orig_img: array([[[244, 247, 251],\n",
              "         [244, 247, 251],\n",
              "         [242, 245, 249],\n",
              "         ...,\n",
              "         [224, 235, 239],\n",
              "         [232, 243, 247],\n",
              "         [231, 242, 246]],\n",
              " \n",
              "        [[251, 254, 255],\n",
              "         [250, 253, 255],\n",
              "         [247, 250, 254],\n",
              "         ...,\n",
              "         [229, 240, 244],\n",
              "         [237, 248, 252],\n",
              "         [238, 249, 253]],\n",
              " \n",
              "        [[249, 254, 255],\n",
              "         [248, 253, 254],\n",
              "         [244, 249, 250],\n",
              "         ...,\n",
              "         [227, 238, 242],\n",
              "         [229, 240, 244],\n",
              "         [230, 241, 245]],\n",
              " \n",
              "        ...,\n",
              " \n",
              "        [[245, 255, 255],\n",
              "         [244, 254, 254],\n",
              "         [244, 254, 254],\n",
              "         ...,\n",
              "         [240, 249, 252],\n",
              "         [241, 250, 253],\n",
              "         [241, 250, 253]],\n",
              " \n",
              "        [[242, 249, 252],\n",
              "         [242, 249, 252],\n",
              "         [242, 249, 252],\n",
              "         ...,\n",
              "         [239, 248, 251],\n",
              "         [238, 247, 250],\n",
              "         [238, 247, 250]],\n",
              " \n",
              "        [[237, 243, 250],\n",
              "         [237, 243, 250],\n",
              "         [238, 244, 251],\n",
              "         ...,\n",
              "         [238, 247, 250],\n",
              "         [236, 245, 248],\n",
              "         [236, 245, 248]]], dtype=uint8)\n",
              " orig_shape: (276, 229)\n",
              " path: '/content/data/validation/images/e46777dc-09_tintin_and_the_crabs_with_the_golden_claws_page_17_panel_04.jpg'\n",
              " probs: None\n",
              " save_dir: 'runs/detect/predict'\n",
              " speed: {'preprocess': 2.5463659999331867, 'inference': 15.815071999895736, 'postprocess': 1.4066039999534041},\n",
              " ultralytics.engine.results.Results object with attributes:\n",
              " \n",
              " boxes: ultralytics.engine.results.Boxes object\n",
              " keypoints: None\n",
              " masks: None\n",
              " names: {0: 'calculus', 1: 'haddock', 2: 'snowy', 3: 'thompson', 4: 'tintin'}\n",
              " obb: None\n",
              " orig_img: array([[[197, 205, 212],\n",
              "         [200, 207, 216],\n",
              "         [204, 209, 218],\n",
              "         ...,\n",
              "         [235, 237, 237],\n",
              "         [236, 238, 238],\n",
              "         [237, 239, 239]],\n",
              " \n",
              "        [[195, 203, 210],\n",
              "         [197, 204, 213],\n",
              "         [201, 206, 215],\n",
              "         ...,\n",
              "         [237, 239, 239],\n",
              "         [238, 240, 240],\n",
              "         [238, 240, 240]],\n",
              " \n",
              "        [[194, 202, 209],\n",
              "         [195, 202, 211],\n",
              "         [199, 204, 213],\n",
              "         ...,\n",
              "         [240, 242, 242],\n",
              "         [240, 242, 242],\n",
              "         [240, 242, 242]],\n",
              " \n",
              "        ...,\n",
              " \n",
              "        [[189, 199, 206],\n",
              "         [195, 204, 213],\n",
              "         [199, 206, 215],\n",
              "         ...,\n",
              "         [236, 240, 241],\n",
              "         [236, 240, 241],\n",
              "         [236, 240, 241]],\n",
              " \n",
              "        [[196, 204, 211],\n",
              "         [199, 207, 214],\n",
              "         [205, 211, 216],\n",
              "         ...,\n",
              "         [229, 232, 236],\n",
              "         [228, 231, 235],\n",
              "         [230, 231, 235]],\n",
              " \n",
              "        [[196, 204, 211],\n",
              "         [199, 207, 214],\n",
              "         [204, 210, 215],\n",
              "         ...,\n",
              "         [231, 234, 238],\n",
              "         [230, 233, 237],\n",
              "         [232, 234, 235]]], dtype=uint8)\n",
              " orig_shape: (274, 200)\n",
              " path: '/content/data/validation/images/ede401ad-17_tintin_and_the_explorers_on_the_moon_page_04_panel_08.jpg'\n",
              " probs: None\n",
              " save_dir: 'runs/detect/predict'\n",
              " speed: {'preprocess': 2.503775000036512, 'inference': 13.016932000027737, 'postprocess': 1.3746280000077604},\n",
              " ultralytics.engine.results.Results object with attributes:\n",
              " \n",
              " boxes: ultralytics.engine.results.Boxes object\n",
              " keypoints: None\n",
              " masks: None\n",
              " names: {0: 'calculus', 1: 'haddock', 2: 'snowy', 3: 'thompson', 4: 'tintin'}\n",
              " obb: None\n",
              " orig_img: array([[[231, 238, 247],\n",
              "         [233, 240, 249],\n",
              "         [237, 242, 251],\n",
              "         ...,\n",
              "         [240, 248, 247],\n",
              "         [246, 254, 253],\n",
              "         [248, 255, 255]],\n",
              " \n",
              "        [[231, 240, 244],\n",
              "         [233, 242, 246],\n",
              "         [234, 243, 247],\n",
              "         ...,\n",
              "         [239, 247, 246],\n",
              "         [239, 247, 246],\n",
              "         [247, 255, 254]],\n",
              " \n",
              "        [[237, 245, 245],\n",
              "         [237, 245, 245],\n",
              "         [235, 244, 247],\n",
              "         ...,\n",
              "         [243, 254, 252],\n",
              "         [243, 254, 252],\n",
              "         [245, 255, 254]],\n",
              " \n",
              "        ...,\n",
              " \n",
              "        [[245, 250, 253],\n",
              "         [244, 249, 252],\n",
              "         [244, 249, 252],\n",
              "         ...,\n",
              "         [238, 247, 250],\n",
              "         [238, 247, 250],\n",
              "         [238, 247, 250]],\n",
              " \n",
              "        [[243, 248, 251],\n",
              "         [243, 248, 251],\n",
              "         [243, 248, 251],\n",
              "         ...,\n",
              "         [243, 252, 255],\n",
              "         [243, 252, 255],\n",
              "         [243, 252, 255]],\n",
              " \n",
              "        [[244, 249, 252],\n",
              "         [244, 249, 252],\n",
              "         [243, 248, 251],\n",
              "         ...,\n",
              "         [245, 255, 255],\n",
              "         [245, 255, 255],\n",
              "         [244, 253, 255]]], dtype=uint8)\n",
              " orig_shape: (273, 228)\n",
              " path: '/content/data/validation/images/eece5bab-15_tintin_and_the_land_of_black_gold_page_02_panel_05.jpg'\n",
              " probs: None\n",
              " save_dir: 'runs/detect/predict'\n",
              " speed: {'preprocess': 2.4878660000240416, 'inference': 15.7957339999939, 'postprocess': 1.411967999956687},\n",
              " ultralytics.engine.results.Results object with attributes:\n",
              " \n",
              " boxes: ultralytics.engine.results.Boxes object\n",
              " keypoints: None\n",
              " masks: None\n",
              " names: {0: 'calculus', 1: 'haddock', 2: 'snowy', 3: 'thompson', 4: 'tintin'}\n",
              " obb: None\n",
              " orig_img: array([[[247, 250, 254],\n",
              "         [248, 251, 255],\n",
              "         [248, 251, 255],\n",
              "         ...,\n",
              "         [224, 230, 235],\n",
              "         [216, 222, 227],\n",
              "         [203, 209, 214]],\n",
              " \n",
              "        [[244, 247, 251],\n",
              "         [246, 249, 253],\n",
              "         [247, 250, 254],\n",
              "         ...,\n",
              "         [223, 229, 234],\n",
              "         [215, 221, 226],\n",
              "         [203, 209, 214]],\n",
              " \n",
              "        [[244, 247, 251],\n",
              "         [245, 248, 252],\n",
              "         [247, 250, 254],\n",
              "         ...,\n",
              "         [220, 226, 231],\n",
              "         [212, 218, 223],\n",
              "         [200, 206, 211]],\n",
              " \n",
              "        ...,\n",
              " \n",
              "        [[185, 218, 221],\n",
              "         [205, 227, 232],\n",
              "         [ 94, 102, 109],\n",
              "         ...,\n",
              "         [225, 228, 232],\n",
              "         [220, 223, 227],\n",
              "         [211, 214, 218]],\n",
              " \n",
              "        [[186, 219, 222],\n",
              "         [207, 229, 234],\n",
              "         [ 96, 104, 111],\n",
              "         ...,\n",
              "         [226, 229, 233],\n",
              "         [221, 224, 228],\n",
              "         [212, 215, 219]],\n",
              " \n",
              "        [[189, 222, 225],\n",
              "         [196, 218, 224],\n",
              "         [ 94, 102, 109],\n",
              "         ...,\n",
              "         [230, 231, 235],\n",
              "         [225, 226, 230],\n",
              "         [215, 216, 220]]], dtype=uint8)\n",
              " orig_shape: (140, 203)\n",
              " path: '/content/data/validation/images/f333e5fb-17_tintin_and_the_explorers_on_the_moon_page_03_panel_14.jpg'\n",
              " probs: None\n",
              " save_dir: 'runs/detect/predict'\n",
              " speed: {'preprocess': 2.456837999943673, 'inference': 12.863520999985667, 'postprocess': 1.4254740000296806},\n",
              " ultralytics.engine.results.Results object with attributes:\n",
              " \n",
              " boxes: ultralytics.engine.results.Boxes object\n",
              " keypoints: None\n",
              " masks: None\n",
              " names: {0: 'calculus', 1: 'haddock', 2: 'snowy', 3: 'thompson', 4: 'tintin'}\n",
              " obb: None\n",
              " orig_img: array([[[249, 254, 255],\n",
              "         [249, 254, 255],\n",
              "         [249, 254, 255],\n",
              "         ...,\n",
              "         [242, 249, 252],\n",
              "         [236, 245, 249],\n",
              "         [231, 240, 244]],\n",
              " \n",
              "        [[247, 255, 255],\n",
              "         [247, 255, 255],\n",
              "         [247, 255, 255],\n",
              "         ...,\n",
              "         [241, 248, 251],\n",
              "         [235, 244, 248],\n",
              "         [231, 240, 244]],\n",
              " \n",
              "        [[247, 255, 255],\n",
              "         [247, 255, 255],\n",
              "         [247, 255, 255],\n",
              "         ...,\n",
              "         [241, 248, 251],\n",
              "         [235, 244, 248],\n",
              "         [231, 240, 244]],\n",
              " \n",
              "        ...,\n",
              " \n",
              "        [[228, 239, 247],\n",
              "         [230, 241, 249],\n",
              "         [232, 243, 251],\n",
              "         ...,\n",
              "         [175, 180, 183],\n",
              "         [179, 184, 187],\n",
              "         [186, 191, 194]],\n",
              " \n",
              "        [[230, 241, 249],\n",
              "         [231, 242, 250],\n",
              "         [233, 244, 252],\n",
              "         ...,\n",
              "         [174, 179, 182],\n",
              "         [178, 183, 186],\n",
              "         [186, 191, 194]],\n",
              " \n",
              "        [[230, 241, 249],\n",
              "         [231, 242, 250],\n",
              "         [232, 243, 251],\n",
              "         ...,\n",
              "         [174, 179, 182],\n",
              "         [177, 182, 185],\n",
              "         [187, 192, 195]]], dtype=uint8)\n",
              " orig_shape: (544, 800)\n",
              " path: '/content/data/validation/images/fa4d29b6-17_tintin_and_the_explorers_on_the_moon_page_11_panel_05.jpg'\n",
              " probs: None\n",
              " save_dir: 'runs/detect/predict'\n",
              " speed: {'preprocess': 2.1502299999838215, 'inference': 12.187470999947436, 'postprocess': 0.6883559999550926}]"
            ]
          },
          "metadata": {},
          "execution_count": 7
        }
      ]
    },
    {
      "cell_type": "code",
      "source": [
        "# Create \"my_model\" folder to store model weights and train results\n",
        "!mkdir /content/my_model\n",
        "!cp /content/runs/detect/train/weights/best.pt /content/my_model/my_model.pt\n",
        "!cp -r /content/runs/detect/train /content/my_model\n",
        "\n",
        "# Zip into \"my_model.zip\"\n",
        "%cd my_model\n",
        "!zip /content/my_model.zip my_model.pt\n",
        "!zip -r /content/my_model.zip train\n",
        "%cd /content"
      ],
      "metadata": {
        "colab": {
          "base_uri": "https://localhost:8080/"
        },
        "id": "_qbc9toQ7iC5",
        "outputId": "4f046f1c-86d9-43f0-a2ea-cacc798f350b"
      },
      "execution_count": null,
      "outputs": [
        {
          "output_type": "stream",
          "name": "stdout",
          "text": [
            "/content/my_model\n",
            "  adding: my_model.pt (deflated 8%)\n",
            "  adding: train/ (stored 0%)\n",
            "  adding: train/train_batch1151.jpg (deflated 9%)\n",
            "  adding: train/train_batch1.jpg (deflated 2%)\n",
            "  adding: train/train_batch1150.jpg (deflated 9%)\n",
            "  adding: train/BoxF1_curve.png (deflated 9%)\n",
            "  adding: train/results.csv (deflated 62%)\n",
            "  adding: train/train_batch2.jpg (deflated 3%)\n",
            "  adding: train/weights/ (stored 0%)\n",
            "  adding: train/weights/best.pt (deflated 8%)\n",
            "  adding: train/weights/last.pt (deflated 8%)\n",
            "  adding: train/BoxPR_curve.png (deflated 16%)\n",
            "  adding: train/results.png (deflated 6%)\n",
            "  adding: train/val_batch0_pred.jpg (deflated 11%)\n",
            "  adding: train/args.yaml (deflated 53%)\n",
            "  adding: train/labels_correlogram.jpg (deflated 45%)\n",
            "  adding: train/confusion_matrix.png (deflated 27%)\n",
            "  adding: train/train_batch0.jpg (deflated 3%)\n",
            "  adding: train/BoxP_curve.png (deflated 10%)\n",
            "  adding: train/val_batch1_pred.jpg (deflated 11%)\n",
            "  adding: train/val_batch1_labels.jpg (deflated 11%)\n",
            "  adding: train/confusion_matrix_normalized.png (deflated 24%)\n",
            "  adding: train/labels.jpg (deflated 32%)\n",
            "  adding: train/train_batch1152.jpg (deflated 7%)\n",
            "  adding: train/BoxR_curve.png (deflated 11%)\n",
            "  adding: train/val_batch0_labels.jpg (deflated 11%)\n",
            "/content\n"
          ]
        }
      ]
    }
  ]
}